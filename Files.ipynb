{
 "cells": [
  {
   "cell_type": "code",
   "execution_count": 21,
   "metadata": {},
   "outputs": [
    {
     "ename": "FileExistsError",
     "evalue": "[Errno 17] File exists: 'sample.txt'",
     "output_type": "error",
     "traceback": [
      "\u001b[1;31m---------------------------------------------------------------------------\u001b[0m",
      "\u001b[1;31mFileExistsError\u001b[0m                           Traceback (most recent call last)",
      "\u001b[1;32m<ipython-input-21-0bfe56dde493>\u001b[0m in \u001b[0;36m<module>\u001b[1;34m\u001b[0m\n\u001b[1;32m----> 1\u001b[1;33m \u001b[0mf\u001b[0m\u001b[1;33m=\u001b[0m\u001b[0mopen\u001b[0m\u001b[1;33m(\u001b[0m\u001b[1;34m\"sample.txt\"\u001b[0m\u001b[1;33m,\u001b[0m\u001b[1;34m\"x\"\u001b[0m\u001b[1;33m)\u001b[0m\u001b[1;33m\u001b[0m\u001b[1;33m\u001b[0m\u001b[0m\n\u001b[0m",
      "\u001b[1;31mFileExistsError\u001b[0m: [Errno 17] File exists: 'sample.txt'"
     ]
    }
   ],
   "source": [
    "f=open(\"sample.txt\",\"x\")"
   ]
  },
  {
   "cell_type": "code",
   "execution_count": 1,
   "metadata": {},
   "outputs": [],
   "source": [
    "f=open(\"sample.txt\",\"a\")"
   ]
  },
  {
   "cell_type": "code",
   "execution_count": 2,
   "metadata": {},
   "outputs": [
    {
     "data": {
      "text/plain": [
       "21"
      ]
     },
     "execution_count": 2,
     "metadata": {},
     "output_type": "execute_result"
    }
   ],
   "source": [
    "f.write(\"\\nhow is ur life!!!???\")"
   ]
  },
  {
   "cell_type": "code",
   "execution_count": 3,
   "metadata": {},
   "outputs": [],
   "source": [
    "f=open(\"sample.txt\",\"r\")"
   ]
  },
  {
   "cell_type": "code",
   "execution_count": 4,
   "metadata": {},
   "outputs": [
    {
     "name": "stdout",
     "output_type": "stream",
     "text": [
      "hello world\n",
      "how are you?\n",
      "how is ur life!!!???\n",
      "how is ur life!!!???\n"
     ]
    }
   ],
   "source": [
    "print(f.read())"
   ]
  },
  {
   "cell_type": "code",
   "execution_count": 38,
   "metadata": {},
   "outputs": [],
   "source": [
    "f=open(\"marks.txt\",\"x\")"
   ]
  },
  {
   "cell_type": "code",
   "execution_count": 39,
   "metadata": {},
   "outputs": [],
   "source": [
    "f=open(\"marks.txt\",\"a\")"
   ]
  },
  {
   "cell_type": "code",
   "execution_count": 5,
   "metadata": {},
   "outputs": [],
   "source": [
    "f.close()"
   ]
  },
  {
   "cell_type": "code",
   "execution_count": 54,
   "metadata": {},
   "outputs": [],
   "source": [
    "import random"
   ]
  },
  {
   "cell_type": "code",
   "execution_count": 55,
   "metadata": {},
   "outputs": [],
   "source": [
    "f=open(\"marks.txt\",\"a\")"
   ]
  },
  {
   "cell_type": "code",
   "execution_count": 67,
   "metadata": {
    "scrolled": true
   },
   "outputs": [
    {
     "name": "stdout",
     "output_type": "stream",
     "text": [
      "22\n",
      "66\n",
      "97\n",
      "59\n",
      "15\n",
      "68\n",
      "95\n",
      "79\n",
      "50\n",
      "86\n",
      "5\n",
      "60\n",
      "71\n",
      "52\n",
      "0\n",
      "13\n",
      "100\n",
      "30\n",
      "31\n",
      "29\n",
      "69\n",
      "58\n",
      "14\n",
      "26\n",
      "5\n",
      "99\n",
      "12\n",
      "95\n",
      "64\n",
      "93\n",
      "95\n",
      "47\n",
      "100\n",
      "96\n",
      "25\n",
      "49\n",
      "26\n",
      "2\n",
      "83\n",
      "32\n",
      "45\n",
      "39\n",
      "3\n",
      "57\n",
      "26\n",
      "57\n",
      "79\n",
      "32\n",
      "56\n",
      "95\n"
     ]
    }
   ],
   "source": [
    "for i in range(0,50):\n",
    "   print(random.randint(0,100))"
   ]
  },
  {
   "cell_type": "code",
   "execution_count": 47,
   "metadata": {},
   "outputs": [],
   "source": [
    "f=open(\"marks.txt\",\"w\")\n"
   ]
  },
  {
   "cell_type": "code",
   "execution_count": 71,
   "metadata": {
    "scrolled": true
   },
   "outputs": [
    {
     "name": "stdout",
     "output_type": "stream",
     "text": [
      "3\n",
      "3\n",
      "3\n",
      "3\n",
      "2\n",
      "3\n",
      "3\n",
      "3\n",
      "3\n",
      "3\n",
      "3\n",
      "3\n",
      "3\n",
      "3\n",
      "3\n",
      "3\n",
      "3\n",
      "3\n",
      "3\n",
      "3\n",
      "3\n",
      "2\n",
      "3\n",
      "3\n",
      "3\n",
      "3\n",
      "3\n",
      "3\n",
      "3\n",
      "3\n",
      "2\n",
      "3\n",
      "3\n",
      "3\n",
      "3\n",
      "3\n",
      "3\n",
      "3\n",
      "3\n",
      "3\n",
      "3\n",
      "3\n",
      "3\n",
      "3\n",
      "3\n",
      "3\n",
      "3\n",
      "3\n",
      "3\n",
      "3\n"
     ]
    }
   ],
   "source": [
    "f=open(\"marks.txt\",\"w\")\n",
    "for i in range(0,50):\n",
    "    print(f.write('\\n'+str(random.randint(0,100))))"
   ]
  },
  {
   "cell_type": "code",
   "execution_count": 72,
   "metadata": {},
   "outputs": [
    {
     "name": "stdout",
     "output_type": "stream",
     "text": [
      "\n",
      "16\n",
      "73\n",
      "56\n",
      "72\n",
      "5\n",
      "44\n",
      "81\n",
      "82\n",
      "30\n",
      "80\n",
      "38\n",
      "11\n",
      "44\n",
      "19\n",
      "82\n",
      "63\n",
      "16\n",
      "34\n",
      "85\n",
      "85\n",
      "99\n",
      "7\n",
      "56\n",
      "86\n",
      "80\n",
      "11\n",
      "84\n",
      "27\n",
      "93\n",
      "88\n",
      "1\n",
      "16\n",
      "81\n",
      "96\n",
      "63\n",
      "48\n",
      "12\n",
      "79\n",
      "37\n",
      "71\n",
      "40\n",
      "34\n",
      "29\n",
      "98\n",
      "34\n",
      "27\n",
      "52\n",
      "80\n",
      "75\n",
      "69\n"
     ]
    }
   ],
   "source": [
    "f=open(\"marks.txt\",\"r\")\n",
    "print(f.read())"
   ]
  },
  {
   "cell_type": "code",
   "execution_count": 75,
   "metadata": {},
   "outputs": [],
   "source": [
    "f.close()"
   ]
  },
  {
   "cell_type": "code",
   "execution_count": 83,
   "metadata": {},
   "outputs": [
    {
     "name": "stdout",
     "output_type": "stream",
     "text": [
      "16\n",
      "73\n",
      "56\n",
      "72\n",
      "5\n",
      "44\n",
      "81\n",
      "82\n",
      "30\n",
      "80\n",
      "38\n",
      "11\n",
      "44\n",
      "19\n",
      "82\n",
      "63\n",
      "16\n",
      "34\n",
      "85\n",
      "85\n",
      "99\n",
      "7\n",
      "56\n",
      "86\n",
      "80\n",
      "11\n",
      "84\n",
      "27\n",
      "93\n",
      "88\n",
      "1\n",
      "16\n",
      "81\n",
      "96\n",
      "63\n",
      "48\n",
      "12\n",
      "79\n",
      "37\n",
      "71\n",
      "40\n",
      "34\n",
      "29\n",
      "98\n",
      "34\n",
      "27\n",
      "52\n",
      "80\n",
      "75\n",
      "69\n"
     ]
    }
   ],
   "source": [
    "f=open(\"marks.txt\",\"r\")\n",
    "for i in f:\n",
    "    print(f.read())"
   ]
  },
  {
   "cell_type": "code",
   "execution_count": 9,
   "metadata": {},
   "outputs": [],
   "source": [
    "f=open(\"marks.txt\",\"r\")"
   ]
  },
  {
   "cell_type": "code",
   "execution_count": 89,
   "metadata": {},
   "outputs": [
    {
     "name": "stdout",
     "output_type": "stream",
     "text": [
      "99\n"
     ]
    }
   ],
   "source": [
    "max=0\n",
    "for i in f:\n",
    "    r=f.readline().replace(\"\\n\",\"\")\n",
    "    if(r!=\"\"):\n",
    "        m=int(r)\n",
    "        if max<m:\n",
    "            max=m\n",
    "print(max)            \n",
    "        \n",
    "        "
   ]
  },
  {
   "cell_type": "code",
   "execution_count": 91,
   "metadata": {},
   "outputs": [
    {
     "name": "stdout",
     "output_type": "stream",
     "text": [
      "1\n"
     ]
    }
   ],
   "source": [
    "min=100\n",
    "for i in f:\n",
    "    r=f.readline().replace(\"\\n\",\"\")\n",
    "    if(r!=\"\"):\n",
    "        m=int(r)\n",
    "        if min>m:\n",
    "            min=m\n",
    "print(min)            \n",
    "        \n",
    "        "
   ]
  },
  {
   "cell_type": "code",
   "execution_count": 93,
   "metadata": {},
   "outputs": [
    {
     "name": "stdout",
     "output_type": "stream",
     "text": [
      "99 1\n"
     ]
    }
   ],
   "source": [
    "max=0\n",
    "min=100\n",
    "for i in f:\n",
    "    r=f.readline().replace(\"\\n\",\"\")\n",
    "    if(r!=\"\"):\n",
    "        m=int(r)\n",
    "        if max<m:\n",
    "            max=m\n",
    "        if min>m:\n",
    "            min=m\n",
    "print(max,min)            \n",
    "        "
   ]
  },
  {
   "cell_type": "code",
   "execution_count": 10,
   "metadata": {},
   "outputs": [],
   "source": [
    "f.close()"
   ]
  },
  {
   "cell_type": "code",
   "execution_count": 6,
   "metadata": {},
   "outputs": [],
   "source": [
    "a=open(\"file.txt\",\"x\")"
   ]
  },
  {
   "cell_type": "code",
   "execution_count": 11,
   "metadata": {},
   "outputs": [],
   "source": [
    "a=open(\"file.txt\",\"a\")"
   ]
  },
  {
   "cell_type": "code",
   "execution_count": 13,
   "metadata": {},
   "outputs": [
    {
     "data": {
      "text/plain": [
       "21"
      ]
     },
     "execution_count": 13,
     "metadata": {},
     "output_type": "execute_result"
    }
   ],
   "source": [
    "a.write(\"hi hello \\nhow are you\")"
   ]
  },
  {
   "cell_type": "code",
   "execution_count": null,
   "metadata": {},
   "outputs": [],
   "source": [
    "a=open(12)"
   ]
  }
 ],
 "metadata": {
  "kernelspec": {
   "display_name": "Python 3",
   "language": "python",
   "name": "python3"
  },
  "language_info": {
   "codemirror_mode": {
    "name": "ipython",
    "version": 3
   },
   "file_extension": ".py",
   "mimetype": "text/x-python",
   "name": "python",
   "nbconvert_exporter": "python",
   "pygments_lexer": "ipython3",
   "version": "3.7.3"
  }
 },
 "nbformat": 4,
 "nbformat_minor": 2
}

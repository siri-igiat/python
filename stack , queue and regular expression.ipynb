{
 "cells": [
  {
   "cell_type": "markdown",
   "metadata": {},
   "source": [
    "## Queue\n",
    "\n",
    "     First in first out [FIFO]\n",
    "     [1,2,3,4,5,6]\n",
    "     \n",
    "## stack\n",
    "     \n",
    "     last in first out [LIFO or FILO]\n",
    "     "
   ]
  },
  {
   "cell_type": "code",
   "execution_count": 8,
   "metadata": {},
   "outputs": [],
   "source": [
    " import re"
   ]
  },
  {
   "cell_type": "code",
   "execution_count": 14,
   "metadata": {},
   "outputs": [
    {
     "name": "stdout",
     "output_type": "stream",
     "text": [
      "<re.Match object; span=(0, 17), match='siriv211@yahoo.in'>\n"
     ]
    }
   ],
   "source": [
    "example=\"siriv211@yahoo.in\"\n",
    "print(re.search(\"^[A-Z a-z 0-9]{1,}(\\.)[A-Z a-z 0-9]{1,}(@)[A-Z a-z]{1,}(\\.)[A-Z a-z]{1,}$|^[A-Z a-z 0-9]{1,}(@)[A-Z a-z]{1,}(\\.)[A-Z a-z]{1,}$\",example))"
   ]
  },
  {
   "cell_type": "code",
   "execution_count": 22,
   "metadata": {},
   "outputs": [
    {
     "name": "stdout",
     "output_type": "stream",
     "text": [
      "['surya softline solutions']\n"
     ]
    }
   ],
   "source": [
    "example=\"surya softline solutions\"\n",
    "print(re.findall(\"^[A-Z a-z \\s 1-9 ]{1,}$\",example))"
   ]
  },
  {
   "cell_type": "code",
   "execution_count": null,
   "metadata": {},
   "outputs": [],
   "source": []
  }
 ],
 "metadata": {
  "kernelspec": {
   "display_name": "Python 3",
   "language": "python",
   "name": "python3"
  },
  "language_info": {
   "codemirror_mode": {
    "name": "ipython",
    "version": 3
   },
   "file_extension": ".py",
   "mimetype": "text/x-python",
   "name": "python",
   "nbconvert_exporter": "python",
   "pygments_lexer": "ipython3",
   "version": "3.7.3"
  }
 },
 "nbformat": 4,
 "nbformat_minor": 2
}

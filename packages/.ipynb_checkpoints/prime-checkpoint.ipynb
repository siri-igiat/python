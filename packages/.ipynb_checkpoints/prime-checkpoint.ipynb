{
 "cells": [
  {
   "cell_type": "code",
   "execution_count": null,
   "metadata": {},
   "outputs": [],
   "source": [
    "def isprime(n):\n",
    "    status=0\n",
    "    for i in range(2,n//2):\n",
    "        if n%i==0:\n",
    "            status=1\n",
    "    if status==0:\n",
    "         print(\"n is prime\")\n",
    "    else:\n",
    "        print(\"n is not prime\")\n",
    "n=int(input(\"enter a number\"))\n",
    "isprime(n)"
   ]
  }
 ],
 "metadata": {
  "kernelspec": {
   "display_name": "Python 3",
   "language": "python",
   "name": "python3"
  },
  "language_info": {
   "codemirror_mode": {
    "name": "ipython",
    "version": 3
   },
   "file_extension": ".py",
   "mimetype": "text/x-python",
   "name": "python",
   "nbconvert_exporter": "python",
   "pygments_lexer": "ipython3",
   "version": "3.7.3"
  }
 },
 "nbformat": 4,
 "nbformat_minor": 2
}

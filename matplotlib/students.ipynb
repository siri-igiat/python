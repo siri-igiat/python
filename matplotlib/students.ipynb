{
 "cells": [
  {
   "cell_type": "code",
   "execution_count": 51,
   "metadata": {},
   "outputs": [],
   "source": [
    "import pandas as p"
   ]
  },
  {
   "cell_type": "code",
   "execution_count": 2,
   "metadata": {},
   "outputs": [],
   "source": [
    "df=p.read_excel(\"student.xlsx\")"
   ]
  },
  {
   "cell_type": "code",
   "execution_count": 3,
   "metadata": {},
   "outputs": [
    {
     "data": {
      "text/html": [
       "<div>\n",
       "<style scoped>\n",
       "    .dataframe tbody tr th:only-of-type {\n",
       "        vertical-align: middle;\n",
       "    }\n",
       "\n",
       "    .dataframe tbody tr th {\n",
       "        vertical-align: top;\n",
       "    }\n",
       "\n",
       "    .dataframe thead th {\n",
       "        text-align: right;\n",
       "    }\n",
       "</style>\n",
       "<table border=\"1\" class=\"dataframe\">\n",
       "  <thead>\n",
       "    <tr style=\"text-align: right;\">\n",
       "      <th></th>\n",
       "      <th>s.no</th>\n",
       "      <th>Name</th>\n",
       "      <th>Python</th>\n",
       "      <th>Raptor</th>\n",
       "      <th>Git and GitHub</th>\n",
       "      <th>Google tools</th>\n",
       "    </tr>\n",
       "  </thead>\n",
       "  <tbody>\n",
       "    <tr>\n",
       "      <th>0</th>\n",
       "      <td>1</td>\n",
       "      <td>Bilal</td>\n",
       "      <td>92</td>\n",
       "      <td>92</td>\n",
       "      <td>90.0</td>\n",
       "      <td>95</td>\n",
       "    </tr>\n",
       "    <tr>\n",
       "      <th>1</th>\n",
       "      <td>2</td>\n",
       "      <td>Hanuman</td>\n",
       "      <td>23</td>\n",
       "      <td>32</td>\n",
       "      <td>19.0</td>\n",
       "      <td>50</td>\n",
       "    </tr>\n",
       "    <tr>\n",
       "      <th>2</th>\n",
       "      <td>3</td>\n",
       "      <td>Lakshmi</td>\n",
       "      <td>99</td>\n",
       "      <td>90</td>\n",
       "      <td>98.0</td>\n",
       "      <td>97</td>\n",
       "    </tr>\n",
       "    <tr>\n",
       "      <th>3</th>\n",
       "      <td>4</td>\n",
       "      <td>Pragna</td>\n",
       "      <td>99</td>\n",
       "      <td>95</td>\n",
       "      <td>92.0</td>\n",
       "      <td>100</td>\n",
       "    </tr>\n",
       "    <tr>\n",
       "      <th>4</th>\n",
       "      <td>5</td>\n",
       "      <td>Sirisha</td>\n",
       "      <td>100</td>\n",
       "      <td>98</td>\n",
       "      <td>99.9</td>\n",
       "      <td>97</td>\n",
       "    </tr>\n",
       "    <tr>\n",
       "      <th>5</th>\n",
       "      <td>6</td>\n",
       "      <td>Rishi</td>\n",
       "      <td>93</td>\n",
       "      <td>94</td>\n",
       "      <td>100.0</td>\n",
       "      <td>99</td>\n",
       "    </tr>\n",
       "    <tr>\n",
       "      <th>6</th>\n",
       "      <td>7</td>\n",
       "      <td>Ratnakar</td>\n",
       "      <td>92</td>\n",
       "      <td>95</td>\n",
       "      <td>97.0</td>\n",
       "      <td>98</td>\n",
       "    </tr>\n",
       "    <tr>\n",
       "      <th>7</th>\n",
       "      <td>8</td>\n",
       "      <td>Jyothi</td>\n",
       "      <td>95</td>\n",
       "      <td>92</td>\n",
       "      <td>97.0</td>\n",
       "      <td>99</td>\n",
       "    </tr>\n",
       "    <tr>\n",
       "      <th>8</th>\n",
       "      <td>9</td>\n",
       "      <td>Rama</td>\n",
       "      <td>95</td>\n",
       "      <td>92</td>\n",
       "      <td>97.0</td>\n",
       "      <td>99</td>\n",
       "    </tr>\n",
       "    <tr>\n",
       "      <th>9</th>\n",
       "      <td>10</td>\n",
       "      <td>Pradeep</td>\n",
       "      <td>100</td>\n",
       "      <td>100</td>\n",
       "      <td>100.0</td>\n",
       "      <td>100</td>\n",
       "    </tr>\n",
       "    <tr>\n",
       "      <th>10</th>\n",
       "      <td>11</td>\n",
       "      <td>Jagadeesh</td>\n",
       "      <td>99</td>\n",
       "      <td>99</td>\n",
       "      <td>95.0</td>\n",
       "      <td>100</td>\n",
       "    </tr>\n",
       "  </tbody>\n",
       "</table>\n",
       "</div>"
      ],
      "text/plain": [
       "    s.no       Name  Python  Raptor  Git and GitHub  Google tools\n",
       "0      1      Bilal      92      92            90.0            95\n",
       "1      2    Hanuman      23      32            19.0            50\n",
       "2      3    Lakshmi      99      90            98.0            97\n",
       "3      4     Pragna      99      95            92.0           100\n",
       "4      5    Sirisha     100      98            99.9            97\n",
       "5      6      Rishi      93      94           100.0            99\n",
       "6      7   Ratnakar      92      95            97.0            98\n",
       "7      8     Jyothi      95      92            97.0            99\n",
       "8      9       Rama      95      92            97.0            99\n",
       "9     10    Pradeep     100     100           100.0           100\n",
       "10    11  Jagadeesh      99      99            95.0           100"
      ]
     },
     "execution_count": 3,
     "metadata": {},
     "output_type": "execute_result"
    }
   ],
   "source": [
    "df"
   ]
  },
  {
   "cell_type": "code",
   "execution_count": 6,
   "metadata": {},
   "outputs": [],
   "source": [
    "python_marks=df[\"Python\"]"
   ]
  },
  {
   "cell_type": "code",
   "execution_count": 7,
   "metadata": {},
   "outputs": [
    {
     "data": {
      "text/plain": [
       "0      92\n",
       "1      23\n",
       "2      99\n",
       "3      99\n",
       "4     100\n",
       "5      93\n",
       "6      92\n",
       "7      95\n",
       "8      95\n",
       "9     100\n",
       "10     99\n",
       "Name: Python, dtype: int64"
      ]
     },
     "execution_count": 7,
     "metadata": {},
     "output_type": "execute_result"
    }
   ],
   "source": [
    "python_marks"
   ]
  },
  {
   "cell_type": "code",
   "execution_count": 9,
   "metadata": {},
   "outputs": [],
   "source": [
    "from matplotlib import pyplot as pl"
   ]
  },
  {
   "cell_type": "code",
   "execution_count": 10,
   "metadata": {},
   "outputs": [
    {
     "data": {
      "text/plain": [
       "([<matplotlib.patches.Wedge at 0x1e8fb59a400>,\n",
       "  <matplotlib.patches.Wedge at 0x1e8fb59a8d0>,\n",
       "  <matplotlib.patches.Wedge at 0x1e8fb59ad68>,\n",
       "  <matplotlib.patches.Wedge at 0x1e8fb5ae240>,\n",
       "  <matplotlib.patches.Wedge at 0x1e8fb5ae6d8>,\n",
       "  <matplotlib.patches.Wedge at 0x1e8fb5aeb70>,\n",
       "  <matplotlib.patches.Wedge at 0x1e8fb5bc048>,\n",
       "  <matplotlib.patches.Wedge at 0x1e8fb5bc4e0>,\n",
       "  <matplotlib.patches.Wedge at 0x1e8fb5bc978>,\n",
       "  <matplotlib.patches.Wedge at 0x1e8fb5bce10>,\n",
       "  <matplotlib.patches.Wedge at 0x1e8fb312080>],\n",
       " [Text(1.053172805450504, 0.3175327413976622, ''),\n",
       "  Text(0.8697495883540612, 0.6734505576194447, ''),\n",
       "  Text(0.5499999925673781, 0.9526279484541089, ''),\n",
       "  Text(-0.11707033637461853, 1.093752502324513, ''),\n",
       "  Text(-0.7417498429910084, 0.8122851533930768, ''),\n",
       "  Text(-1.0743344865489124, 0.23623168926222562, ''),\n",
       "  Text(-1.0245994160513137, -0.40024497077078564, ''),\n",
       "  Text(-0.6239843350814168, -0.9058937849290072, ''),\n",
       "  Text(0.0017505878920915678, -1.0999986070182235, ''),\n",
       "  Text(0.6411700305336878, -0.8938126156781576, ''),\n",
       "  Text(1.0458370853349521, -0.34091757205825063, '')])"
      ]
     },
     "execution_count": 10,
     "metadata": {},
     "output_type": "execute_result"
    },
    {
     "data": {
      "image/png": "[encoded data removed]",
      "text/plain": [
       "<Figure size 432x288 with 1 Axes>"
      ]
     },
     "metadata": {},
     "output_type": "display_data"
    }
   ],
   "source": [
    "pl.pie(python_marks)"
   ]
  },
  {
   "cell_type": "code",
   "execution_count": 15,
   "metadata": {},
   "outputs": [],
   "source": [
    "git=df[\"Git and GitHub\"]"
   ]
  },
  {
   "cell_type": "code",
   "execution_count": 16,
   "metadata": {},
   "outputs": [
    {
     "data": {
      "text/plain": [
       "([<matplotlib.patches.Wedge at 0x1e8fb6aea20>,\n",
       "  <matplotlib.patches.Wedge at 0x1e8fb6aeeb8>,\n",
       "  <matplotlib.patches.Wedge at 0x1e8fb6bc390>,\n",
       "  <matplotlib.patches.Wedge at 0x1e8fb6bc828>,\n",
       "  <matplotlib.patches.Wedge at 0x1e8fb6bccc0>,\n",
       "  <matplotlib.patches.Wedge at 0x1e8fb6c8198>,\n",
       "  <matplotlib.patches.Wedge at 0x1e8fb6c8630>,\n",
       "  <matplotlib.patches.Wedge at 0x1e8fb6c8ac8>,\n",
       "  <matplotlib.patches.Wedge at 0x1e8fb6c8f60>,\n",
       "  <matplotlib.patches.Wedge at 0x1e8fb6d3438>,\n",
       "  <matplotlib.patches.Wedge at 0x1e8fb68f630>],\n",
       " [Text(1.054982800363671, 0.3114663560271429, ''),\n",
       "  Text(0.885734235540901, 0.6522843428986901, ''),\n",
       "  Text(0.5869425979996632, 0.9303216576289117, ''),\n",
       "  Text(-0.04752850695098958, 1.0989727207838282, ''),\n",
       "  Text(-0.6703680190692035, 0.8721276965039191, ''),\n",
       "  Text(-1.05781876282294, 0.3016943238109473, ''),\n",
       "  Text(-1.0331007429623702, -0.37776031407573607, ''),\n",
       "  Text(-0.6224034044813203, -0.9069807065699149, ''),\n",
       "  Text(0.01912150967673753, -1.099833791019208, ''),\n",
       "  Text(0.6619917313654117, -0.8785026736463726, ''),\n",
       "  Text(1.0498812732741474, -0.3282519033124642, '')])"
      ]
     },
     "execution_count": 16,
     "metadata": {},
     "output_type": "execute_result"
    },
    {
     "data": {
      "image/png": "[encoded data removed]",
      "text/plain": [
       "<Figure size 432x288 with 1 Axes>"
      ]
     },
     "metadata": {},
     "output_type": "display_data"
    }
   ],
   "source": [
    "pl.pie(git)"
   ]
  },
  {
   "cell_type": "code",
   "execution_count": 17,
   "metadata": {},
   "outputs": [],
   "source": [
    "names=df[\"Name\"]"
   ]
  },
  {
   "cell_type": "code",
   "execution_count": 18,
   "metadata": {},
   "outputs": [
    {
     "data": {
      "text/plain": [
       "0         Bilal\n",
       "1       Hanuman\n",
       "2       Lakshmi\n",
       "3        Pragna\n",
       "4       Sirisha\n",
       "5         Rishi\n",
       "6      Ratnakar\n",
       "7        Jyothi\n",
       "8          Rama\n",
       "9       Pradeep\n",
       "10    Jagadeesh\n",
       "Name: Name, dtype: object"
      ]
     },
     "execution_count": 18,
     "metadata": {},
     "output_type": "execute_result"
    }
   ],
   "source": [
    "names"
   ]
  },
  {
   "cell_type": "code",
   "execution_count": 20,
   "metadata": {},
   "outputs": [
    {
     "data": {
      "text/plain": [
       "([<matplotlib.patches.Wedge at 0x1e8fb701a90>,\n",
       "  <matplotlib.patches.Wedge at 0x1e8fb701f60>,\n",
       "  <matplotlib.patches.Wedge at 0x1e8fb70f438>,\n",
       "  <matplotlib.patches.Wedge at 0x1e8fb70f8d0>,\n",
       "  <matplotlib.patches.Wedge at 0x1e8fb70fd68>,\n",
       "  <matplotlib.patches.Wedge at 0x1e8fb71d240>,\n",
       "  <matplotlib.patches.Wedge at 0x1e8fb71d6d8>,\n",
       "  <matplotlib.patches.Wedge at 0x1e8fb71db70>,\n",
       "  <matplotlib.patches.Wedge at 0x1e8fb72b048>,\n",
       "  <matplotlib.patches.Wedge at 0x1e8fb72b4e0>,\n",
       "  <matplotlib.patches.Wedge at 0x1e8fb6f2550>],\n",
       " [Text(1.054982800363671, 0.3114663560271429, 'Bilal'),\n",
       "  Text(0.885734235540901, 0.6522843428986901, 'Hanuman'),\n",
       "  Text(0.5869425979996632, 0.9303216576289117, 'Lakshmi'),\n",
       "  Text(-0.04752850695098958, 1.0989727207838282, 'Pragna'),\n",
       "  Text(-0.6703680190692035, 0.8721276965039191, 'Sirisha'),\n",
       "  Text(-1.05781876282294, 0.3016943238109473, 'Rishi'),\n",
       "  Text(-1.0331007429623702, -0.37776031407573607, 'Ratnakar'),\n",
       "  Text(-0.6224034044813203, -0.9069807065699149, 'Jyothi'),\n",
       "  Text(0.01912150967673753, -1.099833791019208, 'Rama'),\n",
       "  Text(0.6619917313654117, -0.8785026736463726, 'Pradeep'),\n",
       "  Text(1.0498812732741474, -0.3282519033124642, 'Jagadeesh')])"
      ]
     },
     "execution_count": 20,
     "metadata": {},
     "output_type": "execute_result"
    },
    {
     "data": {
      "image/png": "[encoded data removed]",
      "text/plain": [
       "<Figure size 432x288 with 1 Axes>"
      ]
     },
     "metadata": {},
     "output_type": "display_data"
    }
   ],
   "source": [
    "pl.pie(git,labels=names)"
   ]
  },
  {
   "cell_type": "code",
   "execution_count": 21,
   "metadata": {},
   "outputs": [
    {
     "data": {
      "text/plain": [
       "89.72727272727273"
      ]
     },
     "execution_count": 21,
     "metadata": {},
     "output_type": "execute_result"
    }
   ],
   "source": [
    "df[\"Python\"].mean()"
   ]
  },
  {
   "cell_type": "code",
   "execution_count": 22,
   "metadata": {},
   "outputs": [
    {
     "data": {
      "text/plain": [
       "s.no               6.000000\n",
       "Python            89.727273\n",
       "Raptor            89.000000\n",
       "Git and GitHub    89.536364\n",
       "Google tools      94.000000\n",
       "dtype: float64"
      ]
     },
     "execution_count": 22,
     "metadata": {},
     "output_type": "execute_result"
    }
   ],
   "source": [
    "df.mean(axis=0)"
   ]
  },
  {
   "cell_type": "code",
   "execution_count": 25,
   "metadata": {},
   "outputs": [],
   "source": [
    "df['avg']=df[['Python','Raptor','Git and GitHub','Google tools']].mean(axis=1)"
   ]
  },
  {
   "cell_type": "code",
   "execution_count": 26,
   "metadata": {},
   "outputs": [
    {
     "data": {
      "text/html": [
       "<div>\n",
       "<style scoped>\n",
       "    .dataframe tbody tr th:only-of-type {\n",
       "        vertical-align: middle;\n",
       "    }\n",
       "\n",
       "    .dataframe tbody tr th {\n",
       "        vertical-align: top;\n",
       "    }\n",
       "\n",
       "    .dataframe thead th {\n",
       "        text-align: right;\n",
       "    }\n",
       "</style>\n",
       "<table border=\"1\" class=\"dataframe\">\n",
       "  <thead>\n",
       "    <tr style=\"text-align: right;\">\n",
       "      <th></th>\n",
       "      <th>s.no</th>\n",
       "      <th>Name</th>\n",
       "      <th>Python</th>\n",
       "      <th>Raptor</th>\n",
       "      <th>Git and GitHub</th>\n",
       "      <th>Google tools</th>\n",
       "      <th>avg</th>\n",
       "    </tr>\n",
       "  </thead>\n",
       "  <tbody>\n",
       "    <tr>\n",
       "      <th>0</th>\n",
       "      <td>1</td>\n",
       "      <td>Bilal</td>\n",
       "      <td>92</td>\n",
       "      <td>92</td>\n",
       "      <td>90.0</td>\n",
       "      <td>95</td>\n",
       "      <td>92.250</td>\n",
       "    </tr>\n",
       "    <tr>\n",
       "      <th>1</th>\n",
       "      <td>2</td>\n",
       "      <td>Hanuman</td>\n",
       "      <td>23</td>\n",
       "      <td>32</td>\n",
       "      <td>19.0</td>\n",
       "      <td>50</td>\n",
       "      <td>31.000</td>\n",
       "    </tr>\n",
       "    <tr>\n",
       "      <th>2</th>\n",
       "      <td>3</td>\n",
       "      <td>Lakshmi</td>\n",
       "      <td>99</td>\n",
       "      <td>90</td>\n",
       "      <td>98.0</td>\n",
       "      <td>97</td>\n",
       "      <td>96.000</td>\n",
       "    </tr>\n",
       "    <tr>\n",
       "      <th>3</th>\n",
       "      <td>4</td>\n",
       "      <td>Pragna</td>\n",
       "      <td>99</td>\n",
       "      <td>95</td>\n",
       "      <td>92.0</td>\n",
       "      <td>100</td>\n",
       "      <td>96.500</td>\n",
       "    </tr>\n",
       "    <tr>\n",
       "      <th>4</th>\n",
       "      <td>5</td>\n",
       "      <td>Sirisha</td>\n",
       "      <td>100</td>\n",
       "      <td>98</td>\n",
       "      <td>99.9</td>\n",
       "      <td>97</td>\n",
       "      <td>98.725</td>\n",
       "    </tr>\n",
       "    <tr>\n",
       "      <th>5</th>\n",
       "      <td>6</td>\n",
       "      <td>Rishi</td>\n",
       "      <td>93</td>\n",
       "      <td>94</td>\n",
       "      <td>100.0</td>\n",
       "      <td>99</td>\n",
       "      <td>96.500</td>\n",
       "    </tr>\n",
       "    <tr>\n",
       "      <th>6</th>\n",
       "      <td>7</td>\n",
       "      <td>Ratnakar</td>\n",
       "      <td>92</td>\n",
       "      <td>95</td>\n",
       "      <td>97.0</td>\n",
       "      <td>98</td>\n",
       "      <td>95.500</td>\n",
       "    </tr>\n",
       "    <tr>\n",
       "      <th>7</th>\n",
       "      <td>8</td>\n",
       "      <td>Jyothi</td>\n",
       "      <td>95</td>\n",
       "      <td>92</td>\n",
       "      <td>97.0</td>\n",
       "      <td>99</td>\n",
       "      <td>95.750</td>\n",
       "    </tr>\n",
       "    <tr>\n",
       "      <th>8</th>\n",
       "      <td>9</td>\n",
       "      <td>Rama</td>\n",
       "      <td>95</td>\n",
       "      <td>92</td>\n",
       "      <td>97.0</td>\n",
       "      <td>99</td>\n",
       "      <td>95.750</td>\n",
       "    </tr>\n",
       "    <tr>\n",
       "      <th>9</th>\n",
       "      <td>10</td>\n",
       "      <td>Pradeep</td>\n",
       "      <td>100</td>\n",
       "      <td>100</td>\n",
       "      <td>100.0</td>\n",
       "      <td>100</td>\n",
       "      <td>100.000</td>\n",
       "    </tr>\n",
       "    <tr>\n",
       "      <th>10</th>\n",
       "      <td>11</td>\n",
       "      <td>Jagadeesh</td>\n",
       "      <td>99</td>\n",
       "      <td>99</td>\n",
       "      <td>95.0</td>\n",
       "      <td>100</td>\n",
       "      <td>98.250</td>\n",
       "    </tr>\n",
       "  </tbody>\n",
       "</table>\n",
       "</div>"
      ],
      "text/plain": [
       "    s.no       Name  Python  Raptor  Git and GitHub  Google tools      avg\n",
       "0      1      Bilal      92      92            90.0            95   92.250\n",
       "1      2    Hanuman      23      32            19.0            50   31.000\n",
       "2      3    Lakshmi      99      90            98.0            97   96.000\n",
       "3      4     Pragna      99      95            92.0           100   96.500\n",
       "4      5    Sirisha     100      98            99.9            97   98.725\n",
       "5      6      Rishi      93      94           100.0            99   96.500\n",
       "6      7   Ratnakar      92      95            97.0            98   95.500\n",
       "7      8     Jyothi      95      92            97.0            99   95.750\n",
       "8      9       Rama      95      92            97.0            99   95.750\n",
       "9     10    Pradeep     100     100           100.0           100  100.000\n",
       "10    11  Jagadeesh      99      99            95.0           100   98.250"
      ]
     },
     "execution_count": 26,
     "metadata": {},
     "output_type": "execute_result"
    }
   ],
   "source": [
    "df"
   ]
  },
  {
   "cell_type": "code",
   "execution_count": 37,
   "metadata": {},
   "outputs": [],
   "source": [
    "colors=['#ff5733','#E3ff33','#3498db','#7d3c98','#138d75','#873600','#F08080','#f39c12','#CD5C5C','#c0392b','#f1c40f']"
   ]
  },
  {
   "cell_type": "code",
   "execution_count": 42,
   "metadata": {},
   "outputs": [
    {
     "data": {
      "text/plain": [
       "([<matplotlib.patches.Wedge at 0x1e8fce08ac8>,\n",
       "  <matplotlib.patches.Wedge at 0x1e8fce08f98>,\n",
       "  <matplotlib.patches.Wedge at 0x1e8fce18470>,\n",
       "  <matplotlib.patches.Wedge at 0x1e8fce18908>,\n",
       "  <matplotlib.patches.Wedge at 0x1e8fce18da0>,\n",
       "  <matplotlib.patches.Wedge at 0x1e8fce24278>,\n",
       "  <matplotlib.patches.Wedge at 0x1e8fce24710>,\n",
       "  <matplotlib.patches.Wedge at 0x1e8fce24ba8>,\n",
       "  <matplotlib.patches.Wedge at 0x1e8fce31080>,\n",
       "  <matplotlib.patches.Wedge at 0x1e8fce31518>,\n",
       "  <matplotlib.patches.Wedge at 0x1e8fce319b0>],\n",
       " [Text(1.053172805450504, 0.3175327413976622, 'Bilal'),\n",
       "  Text(0.8697495883540612, 0.6734505576194447, 'Hanuman'),\n",
       "  Text(0.5499999925673781, 0.9526279484541089, 'Lakshmi'),\n",
       "  Text(-0.11707033637461853, 1.093752502324513, 'Pragna'),\n",
       "  Text(-0.7417498429910084, 0.8122851533930768, 'Sirisha'),\n",
       "  Text(-1.0743344865489124, 0.23623168926222562, 'Rishi'),\n",
       "  Text(-1.0245994160513137, -0.40024497077078564, 'Ratnakar'),\n",
       "  Text(-0.6239843350814168, -0.9058937849290072, 'Jyothi'),\n",
       "  Text(0.0017505878920915678, -1.0999986070182235, 'Rama'),\n",
       "  Text(0.6411700305336878, -0.8938126156781576, 'Pradeep'),\n",
       "  Text(1.0458370853349521, -0.34091757205825063, 'Jagadeesh')])"
      ]
     },
     "execution_count": 42,
     "metadata": {},
     "output_type": "execute_result"
    },
    {
     "data": {
      "image/png": "[encoded data removed]",
      "text/plain": [
       "<Figure size 432x288 with 1 Axes>"
      ]
     },
     "metadata": {},
     "output_type": "display_data"
    }
   ],
   "source": [
    "pl.pie(python_marks,labels=names,colors=colors)"
   ]
  },
  {
   "cell_type": "code",
   "execution_count": 43,
   "metadata": {},
   "outputs": [],
   "source": [
    "from matplotlib import pyplot as pl\n",
    "e=(0.1,0.1,0.1,0.1,0.1,0.1,0.1,0.1,0.1,0.1,0.1)"
   ]
  },
  {
   "cell_type": "code",
   "execution_count": 45,
   "metadata": {},
   "outputs": [
    {
     "data": {
      "text/plain": [
       "([<matplotlib.patches.Wedge at 0x1e8fced8e48>,\n",
       "  <matplotlib.patches.Wedge at 0x1e8fcee4588>,\n",
       "  <matplotlib.patches.Wedge at 0x1e8fcee4c50>,\n",
       "  <matplotlib.patches.Wedge at 0x1e8fceef358>,\n",
       "  <matplotlib.patches.Wedge at 0x1e8fceefa20>,\n",
       "  <matplotlib.patches.Wedge at 0x1e8fcefc128>,\n",
       "  <matplotlib.patches.Wedge at 0x1e8fcefc7f0>,\n",
       "  <matplotlib.patches.Wedge at 0x1e8fcefceb8>,\n",
       "  <matplotlib.patches.Wedge at 0x1e8fcf0a5c0>,\n",
       "  <matplotlib.patches.Wedge at 0x1e8fcf0ac88>,\n",
       "  <matplotlib.patches.Wedge at 0x1e8fcf16390>],\n",
       " [Text(1.1489157877641862, 0.3463993542519951, 'Bilal'),\n",
       "  Text(0.948817732749885, 0.7346733355848488, 'Hanuman'),\n",
       "  Text(0.5999999918916852, 1.0392304892226643, 'Lakshmi'),\n",
       "  Text(-0.12771309422685656, 1.1931845479903778, 'Pragna'),\n",
       "  Text(-0.809181646899282, 0.8861292582469928, 'Sirisha'),\n",
       "  Text(-1.172001258053359, 0.2577072973769734, 'Rishi'),\n",
       "  Text(-1.117744817510524, -0.4366308772044934, 'Ratnakar'),\n",
       "  Text(-0.680710183725182, -0.9882477653770987, 'Jyothi'),\n",
       "  Text(0.001909732245918074, -1.1999984803835166, 'Rama'),\n",
       "  Text(0.6994582151276594, -0.9750683080125355, 'Pradeep'),\n",
       "  Text(1.140913184001766, -0.37191007860900066, 'Jagadeesh')],\n",
       " [Text(0.6702008761957753, 0.20206628998033047, '9.3f%'),\n",
       "  Text(0.5534770107707662, 0.42855944575782845, '2.3f%'),\n",
       "  Text(0.34999999527014963, 0.6062177853798874, '10.0f%'),\n",
       "  Text(-0.07449930496566633, 0.6960243196610537, '10.0f%'),\n",
       "  Text(-0.47202262735791445, 0.5169087339774125, '10.1f%'),\n",
       "  Text(-0.6836674005311261, 0.15032925680323447, '9.4f%'),\n",
       "  Text(-0.6520178102144724, -0.2547013450359545, '9.3f%'),\n",
       "  Text(-0.3970809405063562, -0.576477863136641, '9.6f%'),\n",
       "  Text(0.001114010476785543, -0.6999991135570512, '9.6f%'),\n",
       "  Text(0.4080172921578013, -0.5687898463406458, '10.1f%'),\n",
       "  Text(0.6655326906676966, -0.2169475458552504, '10.0f%')])"
      ]
     },
     "execution_count": 45,
     "metadata": {},
     "output_type": "execute_result"
    },
    {
     "data": {
      "image/png": "[encoded data removed]",
      "text/plain": [
       "<Figure size 432x288 with 1 Axes>"
      ]
     },
     "metadata": {},
     "output_type": "display_data"
    }
   ],
   "source": [
    "pl.pie(python_marks,labels=names,colors=colors,autopct=\"%1.1ff%%\",explode=e)"
   ]
  },
  {
   "cell_type": "code",
   "execution_count": 47,
   "metadata": {},
   "outputs": [
    {
     "name": "stderr",
     "output_type": "stream",
     "text": [
      "C:\\Users\\user8\\Anaconda3\\lib\\site-packages\\ipykernel_launcher.py:1: SettingWithCopyWarning: \n",
      "A value is trying to be set on a copy of a slice from a DataFrame\n",
      "\n",
      "See the caveats in the documentation: http://pandas.pydata.org/pandas-docs/stable/indexing.html#indexing-view-versus-copy\n",
      "  \"\"\"Entry point for launching an IPython kernel.\n"
     ]
    }
   ],
   "source": [
    "df[\"Python\"][1]=58"
   ]
  },
  {
   "cell_type": "code",
   "execution_count": 48,
   "metadata": {},
   "outputs": [
    {
     "data": {
      "text/html": [
       "<div>\n",
       "<style scoped>\n",
       "    .dataframe tbody tr th:only-of-type {\n",
       "        vertical-align: middle;\n",
       "    }\n",
       "\n",
       "    .dataframe tbody tr th {\n",
       "        vertical-align: top;\n",
       "    }\n",
       "\n",
       "    .dataframe thead th {\n",
       "        text-align: right;\n",
       "    }\n",
       "</style>\n",
       "<table border=\"1\" class=\"dataframe\">\n",
       "  <thead>\n",
       "    <tr style=\"text-align: right;\">\n",
       "      <th></th>\n",
       "      <th>s.no</th>\n",
       "      <th>Name</th>\n",
       "      <th>Python</th>\n",
       "      <th>Raptor</th>\n",
       "      <th>Git and GitHub</th>\n",
       "      <th>Google tools</th>\n",
       "      <th>avg</th>\n",
       "    </tr>\n",
       "  </thead>\n",
       "  <tbody>\n",
       "    <tr>\n",
       "      <th>0</th>\n",
       "      <td>1</td>\n",
       "      <td>Bilal</td>\n",
       "      <td>92</td>\n",
       "      <td>92</td>\n",
       "      <td>90.0</td>\n",
       "      <td>95</td>\n",
       "      <td>92.250</td>\n",
       "    </tr>\n",
       "    <tr>\n",
       "      <th>1</th>\n",
       "      <td>2</td>\n",
       "      <td>Hanuman</td>\n",
       "      <td>58</td>\n",
       "      <td>32</td>\n",
       "      <td>19.0</td>\n",
       "      <td>50</td>\n",
       "      <td>31.000</td>\n",
       "    </tr>\n",
       "    <tr>\n",
       "      <th>2</th>\n",
       "      <td>3</td>\n",
       "      <td>Lakshmi</td>\n",
       "      <td>99</td>\n",
       "      <td>90</td>\n",
       "      <td>98.0</td>\n",
       "      <td>97</td>\n",
       "      <td>96.000</td>\n",
       "    </tr>\n",
       "    <tr>\n",
       "      <th>3</th>\n",
       "      <td>4</td>\n",
       "      <td>Pragna</td>\n",
       "      <td>99</td>\n",
       "      <td>95</td>\n",
       "      <td>92.0</td>\n",
       "      <td>100</td>\n",
       "      <td>96.500</td>\n",
       "    </tr>\n",
       "    <tr>\n",
       "      <th>4</th>\n",
       "      <td>5</td>\n",
       "      <td>Sirisha</td>\n",
       "      <td>100</td>\n",
       "      <td>98</td>\n",
       "      <td>99.9</td>\n",
       "      <td>97</td>\n",
       "      <td>98.725</td>\n",
       "    </tr>\n",
       "    <tr>\n",
       "      <th>5</th>\n",
       "      <td>6</td>\n",
       "      <td>Rishi</td>\n",
       "      <td>93</td>\n",
       "      <td>94</td>\n",
       "      <td>100.0</td>\n",
       "      <td>99</td>\n",
       "      <td>96.500</td>\n",
       "    </tr>\n",
       "    <tr>\n",
       "      <th>6</th>\n",
       "      <td>7</td>\n",
       "      <td>Ratnakar</td>\n",
       "      <td>92</td>\n",
       "      <td>95</td>\n",
       "      <td>97.0</td>\n",
       "      <td>98</td>\n",
       "      <td>95.500</td>\n",
       "    </tr>\n",
       "    <tr>\n",
       "      <th>7</th>\n",
       "      <td>8</td>\n",
       "      <td>Jyothi</td>\n",
       "      <td>95</td>\n",
       "      <td>92</td>\n",
       "      <td>97.0</td>\n",
       "      <td>99</td>\n",
       "      <td>95.750</td>\n",
       "    </tr>\n",
       "    <tr>\n",
       "      <th>8</th>\n",
       "      <td>9</td>\n",
       "      <td>Rama</td>\n",
       "      <td>95</td>\n",
       "      <td>92</td>\n",
       "      <td>97.0</td>\n",
       "      <td>99</td>\n",
       "      <td>95.750</td>\n",
       "    </tr>\n",
       "    <tr>\n",
       "      <th>9</th>\n",
       "      <td>10</td>\n",
       "      <td>Pradeep</td>\n",
       "      <td>100</td>\n",
       "      <td>100</td>\n",
       "      <td>100.0</td>\n",
       "      <td>100</td>\n",
       "      <td>100.000</td>\n",
       "    </tr>\n",
       "    <tr>\n",
       "      <th>10</th>\n",
       "      <td>11</td>\n",
       "      <td>Jagadeesh</td>\n",
       "      <td>99</td>\n",
       "      <td>99</td>\n",
       "      <td>95.0</td>\n",
       "      <td>100</td>\n",
       "      <td>98.250</td>\n",
       "    </tr>\n",
       "  </tbody>\n",
       "</table>\n",
       "</div>"
      ],
      "text/plain": [
       "    s.no       Name  Python  Raptor  Git and GitHub  Google tools      avg\n",
       "0      1      Bilal      92      92            90.0            95   92.250\n",
       "1      2    Hanuman      58      32            19.0            50   31.000\n",
       "2      3    Lakshmi      99      90            98.0            97   96.000\n",
       "3      4     Pragna      99      95            92.0           100   96.500\n",
       "4      5    Sirisha     100      98            99.9            97   98.725\n",
       "5      6      Rishi      93      94           100.0            99   96.500\n",
       "6      7   Ratnakar      92      95            97.0            98   95.500\n",
       "7      8     Jyothi      95      92            97.0            99   95.750\n",
       "8      9       Rama      95      92            97.0            99   95.750\n",
       "9     10    Pradeep     100     100           100.0           100  100.000\n",
       "10    11  Jagadeesh      99      99            95.0           100   98.250"
      ]
     },
     "execution_count": 48,
     "metadata": {},
     "output_type": "execute_result"
    }
   ],
   "source": [
    "df"
   ]
  },
  {
   "cell_type": "code",
   "execution_count": 49,
   "metadata": {},
   "outputs": [],
   "source": [
    "df.to_excel(\"student.xlsx\")"
   ]
  },
  {
   "cell_type": "code",
   "execution_count": 52,
   "metadata": {},
   "outputs": [
    {
     "data": {
      "text/plain": [
       "<PandasArray>\n",
       "[90.0, 19.0, 98.0, 92.0, 99.9, 100.0, 97.0, 97.0, 97.0, 100.0, 95.0]\n",
       "Length: 11, dtype: float64"
      ]
     },
     "execution_count": 52,
     "metadata": {},
     "output_type": "execute_result"
    }
   ],
   "source": [
    "p.array(git)"
   ]
  },
  {
   "cell_type": "code",
   "execution_count": null,
   "metadata": {},
   "outputs": [],
   "source": []
  }
 ],
 "metadata": {
  "kernelspec": {
   "display_name": "Python 3",
   "language": "python",
   "name": "python3"
  },
  "language_info": {
   "codemirror_mode": {
    "name": "ipython",
    "version": 3
   },
   "file_extension": ".py",
   "mimetype": "text/x-python",
   "name": "python",
   "nbconvert_exporter": "python",
   "pygments_lexer": "ipython3",
   "version": "3.7.3"
  }
 },
 "nbformat": 4,
 "nbformat_minor": 2
}

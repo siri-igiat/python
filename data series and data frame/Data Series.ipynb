{
 "cells": [
  {
   "cell_type": "code",
   "execution_count": 4,
   "metadata": {},
   "outputs": [],
   "source": [
    "import pandas as pd"
   ]
  },
  {
   "cell_type": "code",
   "execution_count": 5,
   "metadata": {},
   "outputs": [],
   "source": [
    "li=[3,4,5,6]\n",
    "s=pd.Series(li, index=['a','b','c','d'])"
   ]
  },
  {
   "cell_type": "code",
   "execution_count": 7,
   "metadata": {},
   "outputs": [
    {
     "data": {
      "text/plain": [
       "4"
      ]
     },
     "execution_count": 7,
     "metadata": {},
     "output_type": "execute_result"
    }
   ],
   "source": [
    "s[1]"
   ]
  },
  {
   "cell_type": "code",
   "execution_count": 8,
   "metadata": {},
   "outputs": [
    {
     "data": {
      "text/plain": [
       "3"
      ]
     },
     "execution_count": 8,
     "metadata": {},
     "output_type": "execute_result"
    }
   ],
   "source": [
    "s['a']"
   ]
  },
  {
   "cell_type": "code",
   "execution_count": 12,
   "metadata": {},
   "outputs": [],
   "source": [
    "d={\"name\":[\"sirisha\"],\n",
    "   'role':[\"software developer\"],\n",
    "   'location':[\"mysore\"]}"
   ]
  },
  {
   "cell_type": "code",
   "execution_count": 13,
   "metadata": {},
   "outputs": [
    {
     "data": {
      "text/plain": [
       "name                   [sirisha]\n",
       "role        [software developer]\n",
       "location                [mysore]\n",
       "dtype: object"
      ]
     },
     "execution_count": 13,
     "metadata": {},
     "output_type": "execute_result"
    }
   ],
   "source": [
    "df=pd.Series(d)\n",
    "df"
   ]
  },
  {
   "cell_type": "code",
   "execution_count": 14,
   "metadata": {},
   "outputs": [
    {
     "data": {
      "text/plain": [
       "['software developer']"
      ]
     },
     "execution_count": 14,
     "metadata": {},
     "output_type": "execute_result"
    }
   ],
   "source": [
    "df[1]"
   ]
  },
  {
   "cell_type": "code",
   "execution_count": 17,
   "metadata": {},
   "outputs": [
    {
     "data": {
      "text/html": [
       "<div>\n",
       "<style scoped>\n",
       "    .dataframe tbody tr th:only-of-type {\n",
       "        vertical-align: middle;\n",
       "    }\n",
       "\n",
       "    .dataframe tbody tr th {\n",
       "        vertical-align: top;\n",
       "    }\n",
       "\n",
       "    .dataframe thead th {\n",
       "        text-align: right;\n",
       "    }\n",
       "</style>\n",
       "<table border=\"1\" class=\"dataframe\">\n",
       "  <thead>\n",
       "    <tr style=\"text-align: right;\">\n",
       "      <th></th>\n",
       "      <th>name</th>\n",
       "      <th>role</th>\n",
       "      <th>location</th>\n",
       "    </tr>\n",
       "  </thead>\n",
       "  <tbody>\n",
       "    <tr>\n",
       "      <th>0</th>\n",
       "      <td>sirisha</td>\n",
       "      <td>software developer</td>\n",
       "      <td>mysore</td>\n",
       "    </tr>\n",
       "  </tbody>\n",
       "</table>\n",
       "</div>"
      ],
      "text/plain": [
       "      name                role location\n",
       "0  sirisha  software developer   mysore"
      ]
     },
     "execution_count": 17,
     "metadata": {},
     "output_type": "execute_result"
    }
   ],
   "source": [
    "ds=pd.DataFrame(d)\n",
    "ds"
   ]
  },
  {
   "cell_type": "code",
   "execution_count": 18,
   "metadata": {},
   "outputs": [],
   "source": [
    "square=lambda n:n*n\n"
   ]
  },
  {
   "cell_type": "code",
   "execution_count": 19,
   "metadata": {},
   "outputs": [
    {
     "data": {
      "text/plain": [
       "25"
      ]
     },
     "execution_count": 19,
     "metadata": {},
     "output_type": "execute_result"
    }
   ],
   "source": [
    "square(5)"
   ]
  },
  {
   "cell_type": "code",
   "execution_count": 21,
   "metadata": {},
   "outputs": [
    {
     "data": {
      "text/plain": [
       "25"
      ]
     },
     "execution_count": 21,
     "metadata": {},
     "output_type": "execute_result"
    }
   ],
   "source": [
    "def square(n):\n",
    "    return(n*n)\n",
    "square(5)"
   ]
  },
  {
   "cell_type": "code",
   "execution_count": 22,
   "metadata": {},
   "outputs": [],
   "source": [
    "even= lambda n:print(True) if(n%2==0) else print(False)"
   ]
  },
  {
   "cell_type": "code",
   "execution_count": 23,
   "metadata": {},
   "outputs": [
    {
     "name": "stdout",
     "output_type": "stream",
     "text": [
      "False\n"
     ]
    }
   ],
   "source": [
    "even(21)"
   ]
  },
  {
   "cell_type": "code",
   "execution_count": 24,
   "metadata": {},
   "outputs": [],
   "source": [
    "l=[\"1\",\"2\",\"3\",\"4\"]\n",
    "l=[int(value) for value in l]"
   ]
  },
  {
   "cell_type": "code",
   "execution_count": 25,
   "metadata": {},
   "outputs": [
    {
     "data": {
      "text/plain": [
       "[1, 2, 3, 4]"
      ]
     },
     "execution_count": 25,
     "metadata": {},
     "output_type": "execute_result"
    }
   ],
   "source": [
    "l"
   ]
  },
  {
   "cell_type": "code",
   "execution_count": 26,
   "metadata": {},
   "outputs": [],
   "source": [
    "l=[\"1\",\"2\",\"3\",\"4\"]\n",
    "l=[int(value)*int(value) for value in l] ##list comprehension"
   ]
  },
  {
   "cell_type": "code",
   "execution_count": 27,
   "metadata": {},
   "outputs": [
    {
     "data": {
      "text/plain": [
       "[1, 4, 9, 16]"
      ]
     },
     "execution_count": 27,
     "metadata": {},
     "output_type": "execute_result"
    }
   ],
   "source": [
    "l"
   ]
  },
  {
   "cell_type": "code",
   "execution_count": 1,
   "metadata": {},
   "outputs": [],
   "source": [
    "li=[]"
   ]
  },
  {
   "cell_type": "code",
   "execution_count": 12,
   "metadata": {},
   "outputs": [],
   "source": [
    "import pandas as pd"
   ]
  },
  {
   "cell_type": "code",
   "execution_count": 31,
   "metadata": {},
   "outputs": [],
   "source": [
    "df1={\"Id\":[1,2,3,4],\"Name\":[\"priya\",\"siri\",\"jyothi\",\"lakshmi\"],\"Education\":[\"b.tech\",\"b.tech\",\"b.tech\",\"b.tech\"],\n",
    "    \"Location\":[\"Chinnamushidiwada\",\"Birla\",\"maddilapalem\",\"Birla\"]}"
   ]
  },
  {
   "cell_type": "code",
   "execution_count": 32,
   "metadata": {},
   "outputs": [],
   "source": [
    "a=pd.DataFrame(df1)"
   ]
  },
  {
   "cell_type": "code",
   "execution_count": 33,
   "metadata": {},
   "outputs": [
    {
     "data": {
      "text/html": [
       "<div>\n",
       "<style scoped>\n",
       "    .dataframe tbody tr th:only-of-type {\n",
       "        vertical-align: middle;\n",
       "    }\n",
       "\n",
       "    .dataframe tbody tr th {\n",
       "        vertical-align: top;\n",
       "    }\n",
       "\n",
       "    .dataframe thead th {\n",
       "        text-align: right;\n",
       "    }\n",
       "</style>\n",
       "<table border=\"1\" class=\"dataframe\">\n",
       "  <thead>\n",
       "    <tr style=\"text-align: right;\">\n",
       "      <th></th>\n",
       "      <th>Id</th>\n",
       "      <th>Name</th>\n",
       "      <th>Education</th>\n",
       "      <th>Location</th>\n",
       "    </tr>\n",
       "  </thead>\n",
       "  <tbody>\n",
       "    <tr>\n",
       "      <th>0</th>\n",
       "      <td>1</td>\n",
       "      <td>priya</td>\n",
       "      <td>b.tech</td>\n",
       "      <td>Chinnamushidiwada</td>\n",
       "    </tr>\n",
       "    <tr>\n",
       "      <th>1</th>\n",
       "      <td>2</td>\n",
       "      <td>siri</td>\n",
       "      <td>b.tech</td>\n",
       "      <td>Birla</td>\n",
       "    </tr>\n",
       "    <tr>\n",
       "      <th>2</th>\n",
       "      <td>3</td>\n",
       "      <td>jyothi</td>\n",
       "      <td>b.tech</td>\n",
       "      <td>maddilapalem</td>\n",
       "    </tr>\n",
       "    <tr>\n",
       "      <th>3</th>\n",
       "      <td>4</td>\n",
       "      <td>lakshmi</td>\n",
       "      <td>b.tech</td>\n",
       "      <td>Birla</td>\n",
       "    </tr>\n",
       "  </tbody>\n",
       "</table>\n",
       "</div>"
      ],
      "text/plain": [
       "   Id     Name Education           Location\n",
       "0   1    priya    b.tech  Chinnamushidiwada\n",
       "1   2     siri    b.tech              Birla\n",
       "2   3   jyothi    b.tech       maddilapalem\n",
       "3   4  lakshmi    b.tech              Birla"
      ]
     },
     "execution_count": 33,
     "metadata": {},
     "output_type": "execute_result"
    }
   ],
   "source": [
    "a"
   ]
  },
  {
   "cell_type": "code",
   "execution_count": 34,
   "metadata": {},
   "outputs": [],
   "source": [
    "df2={\"Id\":[2,3,4,5,6],\n",
    "     \"Name\":[\"rishi\",\"ratnakar\",\"bilal\",\"pradeep\",\"praveen\"],\n",
    "     \"Education\":[\"b.tech\",\"b.tech\",\"b.tech\",\"MCA\",\"b.tech\"],\n",
    "    \"Location\":[\"kurmanpalem\",\"kurmanpalem\",\"maddilapalem\",\"thatichetlapalem\",\"kottavalsa\"]}"
   ]
  },
  {
   "cell_type": "code",
   "execution_count": 35,
   "metadata": {},
   "outputs": [],
   "source": [
    "b=pd.DataFrame(df2)"
   ]
  },
  {
   "cell_type": "code",
   "execution_count": 36,
   "metadata": {},
   "outputs": [
    {
     "data": {
      "text/html": [
       "<div>\n",
       "<style scoped>\n",
       "    .dataframe tbody tr th:only-of-type {\n",
       "        vertical-align: middle;\n",
       "    }\n",
       "\n",
       "    .dataframe tbody tr th {\n",
       "        vertical-align: top;\n",
       "    }\n",
       "\n",
       "    .dataframe thead th {\n",
       "        text-align: right;\n",
       "    }\n",
       "</style>\n",
       "<table border=\"1\" class=\"dataframe\">\n",
       "  <thead>\n",
       "    <tr style=\"text-align: right;\">\n",
       "      <th></th>\n",
       "      <th>Id</th>\n",
       "      <th>Name</th>\n",
       "      <th>Education</th>\n",
       "      <th>Location</th>\n",
       "    </tr>\n",
       "  </thead>\n",
       "  <tbody>\n",
       "    <tr>\n",
       "      <th>0</th>\n",
       "      <td>2</td>\n",
       "      <td>rishi</td>\n",
       "      <td>b.tech</td>\n",
       "      <td>kurmanpalem</td>\n",
       "    </tr>\n",
       "    <tr>\n",
       "      <th>1</th>\n",
       "      <td>3</td>\n",
       "      <td>ratnakar</td>\n",
       "      <td>b.tech</td>\n",
       "      <td>kurmanpalem</td>\n",
       "    </tr>\n",
       "    <tr>\n",
       "      <th>2</th>\n",
       "      <td>4</td>\n",
       "      <td>bilal</td>\n",
       "      <td>b.tech</td>\n",
       "      <td>maddilapalem</td>\n",
       "    </tr>\n",
       "    <tr>\n",
       "      <th>3</th>\n",
       "      <td>5</td>\n",
       "      <td>pradeep</td>\n",
       "      <td>MCA</td>\n",
       "      <td>thatichetlapalem</td>\n",
       "    </tr>\n",
       "    <tr>\n",
       "      <th>4</th>\n",
       "      <td>6</td>\n",
       "      <td>praveen</td>\n",
       "      <td>b.tech</td>\n",
       "      <td>kottavalsa</td>\n",
       "    </tr>\n",
       "  </tbody>\n",
       "</table>\n",
       "</div>"
      ],
      "text/plain": [
       "   Id      Name Education          Location\n",
       "0   2     rishi    b.tech       kurmanpalem\n",
       "1   3  ratnakar    b.tech       kurmanpalem\n",
       "2   4     bilal    b.tech      maddilapalem\n",
       "3   5   pradeep       MCA  thatichetlapalem\n",
       "4   6   praveen    b.tech        kottavalsa"
      ]
     },
     "execution_count": 36,
     "metadata": {},
     "output_type": "execute_result"
    }
   ],
   "source": [
    "b"
   ]
  },
  {
   "cell_type": "code",
   "execution_count": 37,
   "metadata": {},
   "outputs": [
    {
     "data": {
      "text/html": [
       "<div>\n",
       "<style scoped>\n",
       "    .dataframe tbody tr th:only-of-type {\n",
       "        vertical-align: middle;\n",
       "    }\n",
       "\n",
       "    .dataframe tbody tr th {\n",
       "        vertical-align: top;\n",
       "    }\n",
       "\n",
       "    .dataframe thead th {\n",
       "        text-align: right;\n",
       "    }\n",
       "</style>\n",
       "<table border=\"1\" class=\"dataframe\">\n",
       "  <thead>\n",
       "    <tr style=\"text-align: right;\">\n",
       "      <th></th>\n",
       "      <th>Id</th>\n",
       "      <th>Name</th>\n",
       "      <th>Education</th>\n",
       "      <th>Location</th>\n",
       "    </tr>\n",
       "  </thead>\n",
       "  <tbody>\n",
       "    <tr>\n",
       "      <th>0</th>\n",
       "      <td>1</td>\n",
       "      <td>priya</td>\n",
       "      <td>b.tech</td>\n",
       "      <td>Chinnamushidiwada</td>\n",
       "    </tr>\n",
       "    <tr>\n",
       "      <th>1</th>\n",
       "      <td>2</td>\n",
       "      <td>siri</td>\n",
       "      <td>b.tech</td>\n",
       "      <td>Birla</td>\n",
       "    </tr>\n",
       "    <tr>\n",
       "      <th>2</th>\n",
       "      <td>3</td>\n",
       "      <td>jyothi</td>\n",
       "      <td>b.tech</td>\n",
       "      <td>maddilapalem</td>\n",
       "    </tr>\n",
       "    <tr>\n",
       "      <th>3</th>\n",
       "      <td>4</td>\n",
       "      <td>lakshmi</td>\n",
       "      <td>b.tech</td>\n",
       "      <td>Birla</td>\n",
       "    </tr>\n",
       "    <tr>\n",
       "      <th>4</th>\n",
       "      <td>2</td>\n",
       "      <td>rishi</td>\n",
       "      <td>b.tech</td>\n",
       "      <td>kurmanpalem</td>\n",
       "    </tr>\n",
       "    <tr>\n",
       "      <th>5</th>\n",
       "      <td>3</td>\n",
       "      <td>ratnakar</td>\n",
       "      <td>b.tech</td>\n",
       "      <td>kurmanpalem</td>\n",
       "    </tr>\n",
       "    <tr>\n",
       "      <th>6</th>\n",
       "      <td>4</td>\n",
       "      <td>bilal</td>\n",
       "      <td>b.tech</td>\n",
       "      <td>maddilapalem</td>\n",
       "    </tr>\n",
       "    <tr>\n",
       "      <th>7</th>\n",
       "      <td>5</td>\n",
       "      <td>pradeep</td>\n",
       "      <td>MCA</td>\n",
       "      <td>thatichetlapalem</td>\n",
       "    </tr>\n",
       "    <tr>\n",
       "      <th>8</th>\n",
       "      <td>6</td>\n",
       "      <td>praveen</td>\n",
       "      <td>b.tech</td>\n",
       "      <td>kottavalsa</td>\n",
       "    </tr>\n",
       "  </tbody>\n",
       "</table>\n",
       "</div>"
      ],
      "text/plain": [
       "   Id      Name Education           Location\n",
       "0   1     priya    b.tech  Chinnamushidiwada\n",
       "1   2      siri    b.tech              Birla\n",
       "2   3    jyothi    b.tech       maddilapalem\n",
       "3   4   lakshmi    b.tech              Birla\n",
       "4   2     rishi    b.tech        kurmanpalem\n",
       "5   3  ratnakar    b.tech        kurmanpalem\n",
       "6   4     bilal    b.tech       maddilapalem\n",
       "7   5   pradeep       MCA   thatichetlapalem\n",
       "8   6   praveen    b.tech         kottavalsa"
      ]
     },
     "execution_count": 37,
     "metadata": {},
     "output_type": "execute_result"
    }
   ],
   "source": [
    "pd.merge(a,b,how=\"outer\")"
   ]
  },
  {
   "cell_type": "code",
   "execution_count": 38,
   "metadata": {},
   "outputs": [
    {
     "data": {
      "text/html": [
       "<div>\n",
       "<style scoped>\n",
       "    .dataframe tbody tr th:only-of-type {\n",
       "        vertical-align: middle;\n",
       "    }\n",
       "\n",
       "    .dataframe tbody tr th {\n",
       "        vertical-align: top;\n",
       "    }\n",
       "\n",
       "    .dataframe thead th {\n",
       "        text-align: right;\n",
       "    }\n",
       "</style>\n",
       "<table border=\"1\" class=\"dataframe\">\n",
       "  <thead>\n",
       "    <tr style=\"text-align: right;\">\n",
       "      <th></th>\n",
       "      <th>Id</th>\n",
       "      <th>Name_x</th>\n",
       "      <th>Education_x</th>\n",
       "      <th>Location_x</th>\n",
       "      <th>Name_y</th>\n",
       "      <th>Education_y</th>\n",
       "      <th>Location_y</th>\n",
       "    </tr>\n",
       "  </thead>\n",
       "  <tbody>\n",
       "    <tr>\n",
       "      <th>0</th>\n",
       "      <td>2</td>\n",
       "      <td>siri</td>\n",
       "      <td>b.tech</td>\n",
       "      <td>Birla</td>\n",
       "      <td>rishi</td>\n",
       "      <td>b.tech</td>\n",
       "      <td>kurmanpalem</td>\n",
       "    </tr>\n",
       "    <tr>\n",
       "      <th>1</th>\n",
       "      <td>3</td>\n",
       "      <td>jyothi</td>\n",
       "      <td>b.tech</td>\n",
       "      <td>maddilapalem</td>\n",
       "      <td>ratnakar</td>\n",
       "      <td>b.tech</td>\n",
       "      <td>kurmanpalem</td>\n",
       "    </tr>\n",
       "    <tr>\n",
       "      <th>2</th>\n",
       "      <td>4</td>\n",
       "      <td>lakshmi</td>\n",
       "      <td>b.tech</td>\n",
       "      <td>Birla</td>\n",
       "      <td>bilal</td>\n",
       "      <td>b.tech</td>\n",
       "      <td>maddilapalem</td>\n",
       "    </tr>\n",
       "  </tbody>\n",
       "</table>\n",
       "</div>"
      ],
      "text/plain": [
       "   Id   Name_x Education_x    Location_x    Name_y Education_y    Location_y\n",
       "0   2     siri      b.tech         Birla     rishi      b.tech   kurmanpalem\n",
       "1   3   jyothi      b.tech  maddilapalem  ratnakar      b.tech   kurmanpalem\n",
       "2   4  lakshmi      b.tech         Birla     bilal      b.tech  maddilapalem"
      ]
     },
     "execution_count": 38,
     "metadata": {},
     "output_type": "execute_result"
    }
   ],
   "source": [
    "pd.merge(a,b,how=\"inner\",on=\"Id\")"
   ]
  },
  {
   "cell_type": "code",
   "execution_count": 41,
   "metadata": {},
   "outputs": [
    {
     "data": {
      "text/html": [
       "<div>\n",
       "<style scoped>\n",
       "    .dataframe tbody tr th:only-of-type {\n",
       "        vertical-align: middle;\n",
       "    }\n",
       "\n",
       "    .dataframe tbody tr th {\n",
       "        vertical-align: top;\n",
       "    }\n",
       "\n",
       "    .dataframe thead th {\n",
       "        text-align: right;\n",
       "    }\n",
       "</style>\n",
       "<table border=\"1\" class=\"dataframe\">\n",
       "  <thead>\n",
       "    <tr style=\"text-align: right;\">\n",
       "      <th></th>\n",
       "      <th>Id_x</th>\n",
       "      <th>Name_x</th>\n",
       "      <th>Education</th>\n",
       "      <th>Location_x</th>\n",
       "      <th>Id_y</th>\n",
       "      <th>Name_y</th>\n",
       "      <th>Location_y</th>\n",
       "    </tr>\n",
       "  </thead>\n",
       "  <tbody>\n",
       "    <tr>\n",
       "      <th>0</th>\n",
       "      <td>1</td>\n",
       "      <td>priya</td>\n",
       "      <td>b.tech</td>\n",
       "      <td>Chinnamushidiwada</td>\n",
       "      <td>2</td>\n",
       "      <td>rishi</td>\n",
       "      <td>kurmanpalem</td>\n",
       "    </tr>\n",
       "    <tr>\n",
       "      <th>1</th>\n",
       "      <td>1</td>\n",
       "      <td>priya</td>\n",
       "      <td>b.tech</td>\n",
       "      <td>Chinnamushidiwada</td>\n",
       "      <td>3</td>\n",
       "      <td>ratnakar</td>\n",
       "      <td>kurmanpalem</td>\n",
       "    </tr>\n",
       "    <tr>\n",
       "      <th>2</th>\n",
       "      <td>1</td>\n",
       "      <td>priya</td>\n",
       "      <td>b.tech</td>\n",
       "      <td>Chinnamushidiwada</td>\n",
       "      <td>4</td>\n",
       "      <td>bilal</td>\n",
       "      <td>maddilapalem</td>\n",
       "    </tr>\n",
       "    <tr>\n",
       "      <th>3</th>\n",
       "      <td>1</td>\n",
       "      <td>priya</td>\n",
       "      <td>b.tech</td>\n",
       "      <td>Chinnamushidiwada</td>\n",
       "      <td>6</td>\n",
       "      <td>praveen</td>\n",
       "      <td>kottavalsa</td>\n",
       "    </tr>\n",
       "    <tr>\n",
       "      <th>4</th>\n",
       "      <td>2</td>\n",
       "      <td>siri</td>\n",
       "      <td>b.tech</td>\n",
       "      <td>Birla</td>\n",
       "      <td>2</td>\n",
       "      <td>rishi</td>\n",
       "      <td>kurmanpalem</td>\n",
       "    </tr>\n",
       "    <tr>\n",
       "      <th>5</th>\n",
       "      <td>2</td>\n",
       "      <td>siri</td>\n",
       "      <td>b.tech</td>\n",
       "      <td>Birla</td>\n",
       "      <td>3</td>\n",
       "      <td>ratnakar</td>\n",
       "      <td>kurmanpalem</td>\n",
       "    </tr>\n",
       "    <tr>\n",
       "      <th>6</th>\n",
       "      <td>2</td>\n",
       "      <td>siri</td>\n",
       "      <td>b.tech</td>\n",
       "      <td>Birla</td>\n",
       "      <td>4</td>\n",
       "      <td>bilal</td>\n",
       "      <td>maddilapalem</td>\n",
       "    </tr>\n",
       "    <tr>\n",
       "      <th>7</th>\n",
       "      <td>2</td>\n",
       "      <td>siri</td>\n",
       "      <td>b.tech</td>\n",
       "      <td>Birla</td>\n",
       "      <td>6</td>\n",
       "      <td>praveen</td>\n",
       "      <td>kottavalsa</td>\n",
       "    </tr>\n",
       "    <tr>\n",
       "      <th>8</th>\n",
       "      <td>3</td>\n",
       "      <td>jyothi</td>\n",
       "      <td>b.tech</td>\n",
       "      <td>maddilapalem</td>\n",
       "      <td>2</td>\n",
       "      <td>rishi</td>\n",
       "      <td>kurmanpalem</td>\n",
       "    </tr>\n",
       "    <tr>\n",
       "      <th>9</th>\n",
       "      <td>3</td>\n",
       "      <td>jyothi</td>\n",
       "      <td>b.tech</td>\n",
       "      <td>maddilapalem</td>\n",
       "      <td>3</td>\n",
       "      <td>ratnakar</td>\n",
       "      <td>kurmanpalem</td>\n",
       "    </tr>\n",
       "    <tr>\n",
       "      <th>10</th>\n",
       "      <td>3</td>\n",
       "      <td>jyothi</td>\n",
       "      <td>b.tech</td>\n",
       "      <td>maddilapalem</td>\n",
       "      <td>4</td>\n",
       "      <td>bilal</td>\n",
       "      <td>maddilapalem</td>\n",
       "    </tr>\n",
       "    <tr>\n",
       "      <th>11</th>\n",
       "      <td>3</td>\n",
       "      <td>jyothi</td>\n",
       "      <td>b.tech</td>\n",
       "      <td>maddilapalem</td>\n",
       "      <td>6</td>\n",
       "      <td>praveen</td>\n",
       "      <td>kottavalsa</td>\n",
       "    </tr>\n",
       "    <tr>\n",
       "      <th>12</th>\n",
       "      <td>4</td>\n",
       "      <td>lakshmi</td>\n",
       "      <td>b.tech</td>\n",
       "      <td>Birla</td>\n",
       "      <td>2</td>\n",
       "      <td>rishi</td>\n",
       "      <td>kurmanpalem</td>\n",
       "    </tr>\n",
       "    <tr>\n",
       "      <th>13</th>\n",
       "      <td>4</td>\n",
       "      <td>lakshmi</td>\n",
       "      <td>b.tech</td>\n",
       "      <td>Birla</td>\n",
       "      <td>3</td>\n",
       "      <td>ratnakar</td>\n",
       "      <td>kurmanpalem</td>\n",
       "    </tr>\n",
       "    <tr>\n",
       "      <th>14</th>\n",
       "      <td>4</td>\n",
       "      <td>lakshmi</td>\n",
       "      <td>b.tech</td>\n",
       "      <td>Birla</td>\n",
       "      <td>4</td>\n",
       "      <td>bilal</td>\n",
       "      <td>maddilapalem</td>\n",
       "    </tr>\n",
       "    <tr>\n",
       "      <th>15</th>\n",
       "      <td>4</td>\n",
       "      <td>lakshmi</td>\n",
       "      <td>b.tech</td>\n",
       "      <td>Birla</td>\n",
       "      <td>6</td>\n",
       "      <td>praveen</td>\n",
       "      <td>kottavalsa</td>\n",
       "    </tr>\n",
       "  </tbody>\n",
       "</table>\n",
       "</div>"
      ],
      "text/plain": [
       "    Id_x   Name_x Education         Location_x  Id_y    Name_y    Location_y\n",
       "0      1    priya    b.tech  Chinnamushidiwada     2     rishi   kurmanpalem\n",
       "1      1    priya    b.tech  Chinnamushidiwada     3  ratnakar   kurmanpalem\n",
       "2      1    priya    b.tech  Chinnamushidiwada     4     bilal  maddilapalem\n",
       "3      1    priya    b.tech  Chinnamushidiwada     6   praveen    kottavalsa\n",
       "4      2     siri    b.tech              Birla     2     rishi   kurmanpalem\n",
       "5      2     siri    b.tech              Birla     3  ratnakar   kurmanpalem\n",
       "6      2     siri    b.tech              Birla     4     bilal  maddilapalem\n",
       "7      2     siri    b.tech              Birla     6   praveen    kottavalsa\n",
       "8      3   jyothi    b.tech       maddilapalem     2     rishi   kurmanpalem\n",
       "9      3   jyothi    b.tech       maddilapalem     3  ratnakar   kurmanpalem\n",
       "10     3   jyothi    b.tech       maddilapalem     4     bilal  maddilapalem\n",
       "11     3   jyothi    b.tech       maddilapalem     6   praveen    kottavalsa\n",
       "12     4  lakshmi    b.tech              Birla     2     rishi   kurmanpalem\n",
       "13     4  lakshmi    b.tech              Birla     3  ratnakar   kurmanpalem\n",
       "14     4  lakshmi    b.tech              Birla     4     bilal  maddilapalem\n",
       "15     4  lakshmi    b.tech              Birla     6   praveen    kottavalsa"
      ]
     },
     "execution_count": 41,
     "metadata": {},
     "output_type": "execute_result"
    }
   ],
   "source": [
    "pd.merge(a,b,how=\"inner\",on=\"Education\")  "
   ]
  },
  {
   "cell_type": "code",
   "execution_count": 42,
   "metadata": {},
   "outputs": [
    {
     "data": {
      "text/html": [
       "<div>\n",
       "<style scoped>\n",
       "    .dataframe tbody tr th:only-of-type {\n",
       "        vertical-align: middle;\n",
       "    }\n",
       "\n",
       "    .dataframe tbody tr th {\n",
       "        vertical-align: top;\n",
       "    }\n",
       "\n",
       "    .dataframe thead th {\n",
       "        text-align: right;\n",
       "    }\n",
       "</style>\n",
       "<table border=\"1\" class=\"dataframe\">\n",
       "  <thead>\n",
       "    <tr style=\"text-align: right;\">\n",
       "      <th></th>\n",
       "      <th>Id</th>\n",
       "      <th>Name_x</th>\n",
       "      <th>Education_x</th>\n",
       "      <th>Location_x</th>\n",
       "      <th>Name_y</th>\n",
       "      <th>Education_y</th>\n",
       "      <th>Location_y</th>\n",
       "    </tr>\n",
       "  </thead>\n",
       "  <tbody>\n",
       "    <tr>\n",
       "      <th>0</th>\n",
       "      <td>1</td>\n",
       "      <td>priya</td>\n",
       "      <td>b.tech</td>\n",
       "      <td>Chinnamushidiwada</td>\n",
       "      <td>NaN</td>\n",
       "      <td>NaN</td>\n",
       "      <td>NaN</td>\n",
       "    </tr>\n",
       "    <tr>\n",
       "      <th>1</th>\n",
       "      <td>2</td>\n",
       "      <td>siri</td>\n",
       "      <td>b.tech</td>\n",
       "      <td>Birla</td>\n",
       "      <td>rishi</td>\n",
       "      <td>b.tech</td>\n",
       "      <td>kurmanpalem</td>\n",
       "    </tr>\n",
       "    <tr>\n",
       "      <th>2</th>\n",
       "      <td>3</td>\n",
       "      <td>jyothi</td>\n",
       "      <td>b.tech</td>\n",
       "      <td>maddilapalem</td>\n",
       "      <td>ratnakar</td>\n",
       "      <td>b.tech</td>\n",
       "      <td>kurmanpalem</td>\n",
       "    </tr>\n",
       "    <tr>\n",
       "      <th>3</th>\n",
       "      <td>4</td>\n",
       "      <td>lakshmi</td>\n",
       "      <td>b.tech</td>\n",
       "      <td>Birla</td>\n",
       "      <td>bilal</td>\n",
       "      <td>b.tech</td>\n",
       "      <td>maddilapalem</td>\n",
       "    </tr>\n",
       "  </tbody>\n",
       "</table>\n",
       "</div>"
      ],
      "text/plain": [
       "   Id   Name_x Education_x         Location_x    Name_y Education_y  \\\n",
       "0   1    priya      b.tech  Chinnamushidiwada       NaN         NaN   \n",
       "1   2     siri      b.tech              Birla     rishi      b.tech   \n",
       "2   3   jyothi      b.tech       maddilapalem  ratnakar      b.tech   \n",
       "3   4  lakshmi      b.tech              Birla     bilal      b.tech   \n",
       "\n",
       "     Location_y  \n",
       "0           NaN  \n",
       "1   kurmanpalem  \n",
       "2   kurmanpalem  \n",
       "3  maddilapalem  "
      ]
     },
     "execution_count": 42,
     "metadata": {},
     "output_type": "execute_result"
    }
   ],
   "source": [
    "pd.merge(a,b,how=\"left\",on=\"Id\")  "
   ]
  },
  {
   "cell_type": "code",
   "execution_count": 43,
   "metadata": {},
   "outputs": [
    {
     "data": {
      "text/html": [
       "<div>\n",
       "<style scoped>\n",
       "    .dataframe tbody tr th:only-of-type {\n",
       "        vertical-align: middle;\n",
       "    }\n",
       "\n",
       "    .dataframe tbody tr th {\n",
       "        vertical-align: top;\n",
       "    }\n",
       "\n",
       "    .dataframe thead th {\n",
       "        text-align: right;\n",
       "    }\n",
       "</style>\n",
       "<table border=\"1\" class=\"dataframe\">\n",
       "  <thead>\n",
       "    <tr style=\"text-align: right;\">\n",
       "      <th></th>\n",
       "      <th>Id</th>\n",
       "      <th>Name_x</th>\n",
       "      <th>Education_x</th>\n",
       "      <th>Location_x</th>\n",
       "      <th>Name_y</th>\n",
       "      <th>Education_y</th>\n",
       "      <th>Location_y</th>\n",
       "    </tr>\n",
       "  </thead>\n",
       "  <tbody>\n",
       "    <tr>\n",
       "      <th>0</th>\n",
       "      <td>2</td>\n",
       "      <td>siri</td>\n",
       "      <td>b.tech</td>\n",
       "      <td>Birla</td>\n",
       "      <td>rishi</td>\n",
       "      <td>b.tech</td>\n",
       "      <td>kurmanpalem</td>\n",
       "    </tr>\n",
       "    <tr>\n",
       "      <th>1</th>\n",
       "      <td>3</td>\n",
       "      <td>jyothi</td>\n",
       "      <td>b.tech</td>\n",
       "      <td>maddilapalem</td>\n",
       "      <td>ratnakar</td>\n",
       "      <td>b.tech</td>\n",
       "      <td>kurmanpalem</td>\n",
       "    </tr>\n",
       "    <tr>\n",
       "      <th>2</th>\n",
       "      <td>4</td>\n",
       "      <td>lakshmi</td>\n",
       "      <td>b.tech</td>\n",
       "      <td>Birla</td>\n",
       "      <td>bilal</td>\n",
       "      <td>b.tech</td>\n",
       "      <td>maddilapalem</td>\n",
       "    </tr>\n",
       "    <tr>\n",
       "      <th>3</th>\n",
       "      <td>5</td>\n",
       "      <td>NaN</td>\n",
       "      <td>NaN</td>\n",
       "      <td>NaN</td>\n",
       "      <td>pradeep</td>\n",
       "      <td>MCA</td>\n",
       "      <td>thatichetlapalem</td>\n",
       "    </tr>\n",
       "    <tr>\n",
       "      <th>4</th>\n",
       "      <td>6</td>\n",
       "      <td>NaN</td>\n",
       "      <td>NaN</td>\n",
       "      <td>NaN</td>\n",
       "      <td>praveen</td>\n",
       "      <td>b.tech</td>\n",
       "      <td>kottavalsa</td>\n",
       "    </tr>\n",
       "  </tbody>\n",
       "</table>\n",
       "</div>"
      ],
      "text/plain": [
       "   Id   Name_x Education_x    Location_x    Name_y Education_y  \\\n",
       "0   2     siri      b.tech         Birla     rishi      b.tech   \n",
       "1   3   jyothi      b.tech  maddilapalem  ratnakar      b.tech   \n",
       "2   4  lakshmi      b.tech         Birla     bilal      b.tech   \n",
       "3   5      NaN         NaN           NaN   pradeep         MCA   \n",
       "4   6      NaN         NaN           NaN   praveen      b.tech   \n",
       "\n",
       "         Location_y  \n",
       "0       kurmanpalem  \n",
       "1       kurmanpalem  \n",
       "2      maddilapalem  \n",
       "3  thatichetlapalem  \n",
       "4        kottavalsa  "
      ]
     },
     "execution_count": 43,
     "metadata": {},
     "output_type": "execute_result"
    }
   ],
   "source": [
    "pd.merge(a,b,how=\"right\",on=\"Id\")  "
   ]
  },
  {
   "cell_type": "code",
   "execution_count": 44,
   "metadata": {},
   "outputs": [],
   "source": [
    "d1={\"Name\":[\"Jyothi\",\"sirisha\",\"priya\",\"lakshmi\",\"santhoshi\"],\n",
    "   \"salary\":[50000,90000,40000,60000,50000],\n",
    "    \"company\":[\"Accenture\",\"Infosys\",\"Wipro\",\"Google\",\"Microsoft\"]}\n",
    "   "
   ]
  },
  {
   "cell_type": "code",
   "execution_count": 45,
   "metadata": {},
   "outputs": [],
   "source": [
    "d=pd.DataFrame(d1)"
   ]
  },
  {
   "cell_type": "code",
   "execution_count": 46,
   "metadata": {},
   "outputs": [
    {
     "data": {
      "text/html": [
       "<div>\n",
       "<style scoped>\n",
       "    .dataframe tbody tr th:only-of-type {\n",
       "        vertical-align: middle;\n",
       "    }\n",
       "\n",
       "    .dataframe tbody tr th {\n",
       "        vertical-align: top;\n",
       "    }\n",
       "\n",
       "    .dataframe thead th {\n",
       "        text-align: right;\n",
       "    }\n",
       "</style>\n",
       "<table border=\"1\" class=\"dataframe\">\n",
       "  <thead>\n",
       "    <tr style=\"text-align: right;\">\n",
       "      <th></th>\n",
       "      <th>Name</th>\n",
       "      <th>salary</th>\n",
       "      <th>company</th>\n",
       "    </tr>\n",
       "  </thead>\n",
       "  <tbody>\n",
       "    <tr>\n",
       "      <th>0</th>\n",
       "      <td>Jyothi</td>\n",
       "      <td>50000</td>\n",
       "      <td>Accenture</td>\n",
       "    </tr>\n",
       "    <tr>\n",
       "      <th>1</th>\n",
       "      <td>sirisha</td>\n",
       "      <td>90000</td>\n",
       "      <td>Infosys</td>\n",
       "    </tr>\n",
       "    <tr>\n",
       "      <th>2</th>\n",
       "      <td>priya</td>\n",
       "      <td>40000</td>\n",
       "      <td>Wipro</td>\n",
       "    </tr>\n",
       "    <tr>\n",
       "      <th>3</th>\n",
       "      <td>lakshmi</td>\n",
       "      <td>60000</td>\n",
       "      <td>Google</td>\n",
       "    </tr>\n",
       "    <tr>\n",
       "      <th>4</th>\n",
       "      <td>santhoshi</td>\n",
       "      <td>50000</td>\n",
       "      <td>Microsoft</td>\n",
       "    </tr>\n",
       "  </tbody>\n",
       "</table>\n",
       "</div>"
      ],
      "text/plain": [
       "        Name  salary    company\n",
       "0     Jyothi   50000  Accenture\n",
       "1    sirisha   90000    Infosys\n",
       "2      priya   40000      Wipro\n",
       "3    lakshmi   60000     Google\n",
       "4  santhoshi   50000  Microsoft"
      ]
     },
     "execution_count": 46,
     "metadata": {},
     "output_type": "execute_result"
    }
   ],
   "source": [
    "d"
   ]
  },
  {
   "cell_type": "code",
   "execution_count": 16,
   "metadata": {},
   "outputs": [],
   "source": [
    "d_group=d.groupby(\"salary\").groups"
   ]
  },
  {
   "cell_type": "code",
   "execution_count": 17,
   "metadata": {},
   "outputs": [
    {
     "data": {
      "text/plain": [
       "{40000: Int64Index([2], dtype='int64'),\n",
       " 50000: Int64Index([0, 4], dtype='int64'),\n",
       " 60000: Int64Index([3], dtype='int64'),\n",
       " 90000: Int64Index([1], dtype='int64')}"
      ]
     },
     "execution_count": 17,
     "metadata": {},
     "output_type": "execute_result"
    }
   ],
   "source": [
    "d_group"
   ]
  },
  {
   "cell_type": "code",
   "execution_count": 18,
   "metadata": {},
   "outputs": [
    {
     "name": "stdout",
     "output_type": "stream",
     "text": [
      "40000\n",
      "50000\n",
      "60000\n",
      "90000\n"
     ]
    }
   ],
   "source": [
    "for i in d_group:\n",
    "    print(i)"
   ]
  },
  {
   "cell_type": "code",
   "execution_count": 20,
   "metadata": {},
   "outputs": [],
   "source": [
    "d_group=d.groupby(\"salary\")"
   ]
  },
  {
   "cell_type": "code",
   "execution_count": 21,
   "metadata": {},
   "outputs": [
    {
     "name": "stdout",
     "output_type": "stream",
     "text": [
      "40000\n",
      "    Name  salary company\n",
      "2  priya   40000   Wipro\n",
      "50000\n",
      "        Name  salary    company\n",
      "0     Jyothi   50000  Accenture\n",
      "4  santhoshi   50000  Microsoft\n",
      "60000\n",
      "      Name  salary company\n",
      "3  lakshmi   60000  Google\n",
      "90000\n",
      "      Name  salary  company\n",
      "1  sirisha   90000  Infosys\n"
     ]
    }
   ],
   "source": [
    "for i,j in d_group:\n",
    "    print(i)\n",
    "    print(j)"
   ]
  },
  {
   "cell_type": "code",
   "execution_count": 33,
   "metadata": {},
   "outputs": [],
   "source": [
    "d_group=d.groupby(\"Name\")"
   ]
  },
  {
   "cell_type": "code",
   "execution_count": 29,
   "metadata": {},
   "outputs": [
    {
     "data": {
      "text/plain": [
       "{'Jyothi': Int64Index([0], dtype='int64'),\n",
       " 'lakshmi': Int64Index([3], dtype='int64'),\n",
       " 'priya': Int64Index([2], dtype='int64'),\n",
       " 'santhoshi': Int64Index([4], dtype='int64'),\n",
       " 'sirisha': Int64Index([1], dtype='int64')}"
      ]
     },
     "execution_count": 29,
     "metadata": {},
     "output_type": "execute_result"
    }
   ],
   "source": [
    "d_group=d.groupby(\"Name\").groups\n",
    "d_group"
   ]
  },
  {
   "cell_type": "code",
   "execution_count": 34,
   "metadata": {},
   "outputs": [
    {
     "data": {
      "text/html": [
       "<div>\n",
       "<style scoped>\n",
       "    .dataframe tbody tr th:only-of-type {\n",
       "        vertical-align: middle;\n",
       "    }\n",
       "\n",
       "    .dataframe tbody tr th {\n",
       "        vertical-align: top;\n",
       "    }\n",
       "\n",
       "    .dataframe thead th {\n",
       "        text-align: right;\n",
       "    }\n",
       "</style>\n",
       "<table border=\"1\" class=\"dataframe\">\n",
       "  <thead>\n",
       "    <tr style=\"text-align: right;\">\n",
       "      <th></th>\n",
       "      <th>Name</th>\n",
       "      <th>salary</th>\n",
       "      <th>company</th>\n",
       "    </tr>\n",
       "  </thead>\n",
       "  <tbody>\n",
       "    <tr>\n",
       "      <th>1</th>\n",
       "      <td>sirisha</td>\n",
       "      <td>90000</td>\n",
       "      <td>Infosys</td>\n",
       "    </tr>\n",
       "  </tbody>\n",
       "</table>\n",
       "</div>"
      ],
      "text/plain": [
       "      Name  salary  company\n",
       "1  sirisha   90000  Infosys"
      ]
     },
     "execution_count": 34,
     "metadata": {},
     "output_type": "execute_result"
    }
   ],
   "source": [
    "d_group.get_group(\"sirisha\")"
   ]
  },
  {
   "cell_type": "code",
   "execution_count": 36,
   "metadata": {},
   "outputs": [
    {
     "name": "stdout",
     "output_type": "stream",
     "text": [
      "    Name  salary  company\n",
      " sirisha   90000  Infosys\n"
     ]
    }
   ],
   "source": [
    "print(d_group.get_group(\"sirisha\").to_string(index=False))"
   ]
  },
  {
   "cell_type": "code",
   "execution_count": 63,
   "metadata": {},
   "outputs": [],
   "source": [
    "d2={\"Name\":[\"Jyothi\",\"sirisha\",\"priya\",\"lakshmi\",\"santhoshi\",\"Jyothi\"],\n",
    "   \"salary\":[50000,90000,40000,60000,50000,70000],\n",
    "    \"company\":[\"Accenture\",\"Infosys\",\"Wipro\",\"Google\",\"Microsoft\",\"Accenture\"]}"
   ]
  },
  {
   "cell_type": "code",
   "execution_count": 64,
   "metadata": {},
   "outputs": [
    {
     "data": {
      "text/html": [
       "<div>\n",
       "<style scoped>\n",
       "    .dataframe tbody tr th:only-of-type {\n",
       "        vertical-align: middle;\n",
       "    }\n",
       "\n",
       "    .dataframe tbody tr th {\n",
       "        vertical-align: top;\n",
       "    }\n",
       "\n",
       "    .dataframe thead th {\n",
       "        text-align: right;\n",
       "    }\n",
       "</style>\n",
       "<table border=\"1\" class=\"dataframe\">\n",
       "  <thead>\n",
       "    <tr style=\"text-align: right;\">\n",
       "      <th></th>\n",
       "      <th>Name</th>\n",
       "      <th>salary</th>\n",
       "      <th>company</th>\n",
       "    </tr>\n",
       "  </thead>\n",
       "  <tbody>\n",
       "    <tr>\n",
       "      <th>0</th>\n",
       "      <td>Jyothi</td>\n",
       "      <td>50000</td>\n",
       "      <td>Accenture</td>\n",
       "    </tr>\n",
       "    <tr>\n",
       "      <th>1</th>\n",
       "      <td>sirisha</td>\n",
       "      <td>90000</td>\n",
       "      <td>Infosys</td>\n",
       "    </tr>\n",
       "    <tr>\n",
       "      <th>2</th>\n",
       "      <td>priya</td>\n",
       "      <td>40000</td>\n",
       "      <td>Wipro</td>\n",
       "    </tr>\n",
       "    <tr>\n",
       "      <th>3</th>\n",
       "      <td>lakshmi</td>\n",
       "      <td>60000</td>\n",
       "      <td>Google</td>\n",
       "    </tr>\n",
       "    <tr>\n",
       "      <th>4</th>\n",
       "      <td>santhoshi</td>\n",
       "      <td>50000</td>\n",
       "      <td>Microsoft</td>\n",
       "    </tr>\n",
       "    <tr>\n",
       "      <th>5</th>\n",
       "      <td>Jyothi</td>\n",
       "      <td>70000</td>\n",
       "      <td>Accenture</td>\n",
       "    </tr>\n",
       "  </tbody>\n",
       "</table>\n",
       "</div>"
      ],
      "text/plain": [
       "        Name  salary    company\n",
       "0     Jyothi   50000  Accenture\n",
       "1    sirisha   90000    Infosys\n",
       "2      priya   40000      Wipro\n",
       "3    lakshmi   60000     Google\n",
       "4  santhoshi   50000  Microsoft\n",
       "5     Jyothi   70000  Accenture"
      ]
     },
     "execution_count": 64,
     "metadata": {},
     "output_type": "execute_result"
    }
   ],
   "source": [
    "d=pd.DataFrame(d2)\n",
    "d"
   ]
  },
  {
   "cell_type": "code",
   "execution_count": 65,
   "metadata": {},
   "outputs": [],
   "source": [
    "import pandas as pd\n",
    "import numpy as n"
   ]
  },
  {
   "cell_type": "code",
   "execution_count": 71,
   "metadata": {},
   "outputs": [
    {
     "data": {
      "text/plain": [
       "<pandas.core.groupby.generic.DataFrameGroupBy object at 0x00000224A618C518>"
      ]
     },
     "execution_count": 71,
     "metadata": {},
     "output_type": "execute_result"
    }
   ],
   "source": [
    "d_group=d.groupby(\"Name\")\n",
    "d_group"
   ]
  },
  {
   "cell_type": "code",
   "execution_count": 72,
   "metadata": {},
   "outputs": [
    {
     "data": {
      "text/html": [
       "<div>\n",
       "<style scoped>\n",
       "    .dataframe tbody tr th:only-of-type {\n",
       "        vertical-align: middle;\n",
       "    }\n",
       "\n",
       "    .dataframe tbody tr th {\n",
       "        vertical-align: top;\n",
       "    }\n",
       "\n",
       "    .dataframe thead th {\n",
       "        text-align: right;\n",
       "    }\n",
       "</style>\n",
       "<table border=\"1\" class=\"dataframe\">\n",
       "  <thead>\n",
       "    <tr style=\"text-align: right;\">\n",
       "      <th></th>\n",
       "      <th>salary</th>\n",
       "    </tr>\n",
       "    <tr>\n",
       "      <th>Name</th>\n",
       "      <th></th>\n",
       "    </tr>\n",
       "  </thead>\n",
       "  <tbody>\n",
       "    <tr>\n",
       "      <th>Jyothi</th>\n",
       "      <td>120000</td>\n",
       "    </tr>\n",
       "    <tr>\n",
       "      <th>lakshmi</th>\n",
       "      <td>60000</td>\n",
       "    </tr>\n",
       "    <tr>\n",
       "      <th>priya</th>\n",
       "      <td>40000</td>\n",
       "    </tr>\n",
       "    <tr>\n",
       "      <th>santhoshi</th>\n",
       "      <td>50000</td>\n",
       "    </tr>\n",
       "    <tr>\n",
       "      <th>sirisha</th>\n",
       "      <td>90000</td>\n",
       "    </tr>\n",
       "  </tbody>\n",
       "</table>\n",
       "</div>"
      ],
      "text/plain": [
       "           salary\n",
       "Name             \n",
       "Jyothi     120000\n",
       "lakshmi     60000\n",
       "priya       40000\n",
       "santhoshi   50000\n",
       "sirisha     90000"
      ]
     },
     "execution_count": 72,
     "metadata": {},
     "output_type": "execute_result"
    }
   ],
   "source": [
    "d_group.agg(n.sum)"
   ]
  },
  {
   "cell_type": "code",
   "execution_count": 73,
   "metadata": {},
   "outputs": [
    {
     "data": {
      "text/html": [
       "<div>\n",
       "<style scoped>\n",
       "    .dataframe tbody tr th:only-of-type {\n",
       "        vertical-align: middle;\n",
       "    }\n",
       "\n",
       "    .dataframe tbody tr th {\n",
       "        vertical-align: top;\n",
       "    }\n",
       "\n",
       "    .dataframe thead tr th {\n",
       "        text-align: left;\n",
       "    }\n",
       "\n",
       "    .dataframe thead tr:last-of-type th {\n",
       "        text-align: right;\n",
       "    }\n",
       "</style>\n",
       "<table border=\"1\" class=\"dataframe\">\n",
       "  <thead>\n",
       "    <tr>\n",
       "      <th></th>\n",
       "      <th colspan=\"2\" halign=\"left\">salary</th>\n",
       "    </tr>\n",
       "    <tr>\n",
       "      <th></th>\n",
       "      <th>sum</th>\n",
       "      <th>mean</th>\n",
       "    </tr>\n",
       "    <tr>\n",
       "      <th>Name</th>\n",
       "      <th></th>\n",
       "      <th></th>\n",
       "    </tr>\n",
       "  </thead>\n",
       "  <tbody>\n",
       "    <tr>\n",
       "      <th>Jyothi</th>\n",
       "      <td>120000</td>\n",
       "      <td>60000</td>\n",
       "    </tr>\n",
       "    <tr>\n",
       "      <th>lakshmi</th>\n",
       "      <td>60000</td>\n",
       "      <td>60000</td>\n",
       "    </tr>\n",
       "    <tr>\n",
       "      <th>priya</th>\n",
       "      <td>40000</td>\n",
       "      <td>40000</td>\n",
       "    </tr>\n",
       "    <tr>\n",
       "      <th>santhoshi</th>\n",
       "      <td>50000</td>\n",
       "      <td>50000</td>\n",
       "    </tr>\n",
       "    <tr>\n",
       "      <th>sirisha</th>\n",
       "      <td>90000</td>\n",
       "      <td>90000</td>\n",
       "    </tr>\n",
       "  </tbody>\n",
       "</table>\n",
       "</div>"
      ],
      "text/plain": [
       "           salary       \n",
       "              sum   mean\n",
       "Name                    \n",
       "Jyothi     120000  60000\n",
       "lakshmi     60000  60000\n",
       "priya       40000  40000\n",
       "santhoshi   50000  50000\n",
       "sirisha     90000  90000"
      ]
     },
     "execution_count": 73,
     "metadata": {},
     "output_type": "execute_result"
    }
   ],
   "source": [
    "d_group.agg([n.sum,n.mean])"
   ]
  },
  {
   "cell_type": "code",
   "execution_count": null,
   "metadata": {},
   "outputs": [],
   "source": []
  }
 ],
 "metadata": {
  "kernelspec": {
   "display_name": "Python 3",
   "language": "python",
   "name": "python3"
  },
  "language_info": {
   "codemirror_mode": {
    "name": "ipython",
    "version": 3
   },
   "file_extension": ".py",
   "mimetype": "text/x-python",
   "name": "python",
   "nbconvert_exporter": "python",
   "pygments_lexer": "ipython3",
   "version": "3.7.3"
  }
 },
 "nbformat": 4,
 "nbformat_minor": 2
}

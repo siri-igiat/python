{
 "cells": [
  {
   "cell_type": "markdown",
   "metadata": {},
   "source": [
    "# MSTP@IGIAT"
   ]
  },
  {
   "cell_type": "markdown",
   "metadata": {},
   "source": [
    "+ README.MD\n",
    "    - Basic shortcuts\n",
    "+ Python\n",
    "    1. Basics of python\n",
    "    2. selection statement\n",
    "    3. Iteration\n",
    "    4. Arrays(lists, sets, touples,dictionaries)\n",
    "    5. Pandas\n",
    "    6. Numpy\n",
    "    `hello`*** little things***\n",
    "   ___     \n",
    "        [google](https://www.google.com)\n",
    "       \n",
    "     [facebook](https://www.facebook.com)\n",
    "       \n",
    "     <img src=\"../siri/parth.jpg\" alt=\"image\">\n",
    "     "
   ]
  },
  {
   "cell_type": "code",
   "execution_count": 8,
   "metadata": {},
   "outputs": [
    {
     "name": "stdout",
     "output_type": "stream",
     "text": [
      "5\n"
     ]
    }
   ],
   "source": [
    "a,b=3,2\n",
    "print(a+b)"
   ]
  },
  {
   "cell_type": "code",
   "execution_count": null,
   "metadata": {},
   "outputs": [],
   "source": []
  }
 ],
 "metadata": {
  "kernelspec": {
   "display_name": "Python 3",
   "language": "python",
   "name": "python3"
  },
  "language_info": {
   "codemirror_mode": {
    "name": "ipython",
    "version": 3
   },
   "file_extension": ".py",
   "mimetype": "text/x-python",
   "name": "python",
   "nbconvert_exporter": "python",
   "pygments_lexer": "ipython3",
   "version": "3.7.3"
  }
 },
 "nbformat": 4,
 "nbformat_minor": 2
}

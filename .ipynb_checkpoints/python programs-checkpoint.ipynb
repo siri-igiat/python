{
 "cells": [
  {
   "cell_type": "code",
   "execution_count": null,
   "metadata": {},
   "outputs": [],
   "source": [
    "a=list(map(int,input().split()))\n",
    "for i in a:\n",
    "    for j in range(1,11):\n",
    "        print(i,\"*\",j,\"=\",i*j)\n",
    "        "
   ]
  },
  {
   "cell_type": "code",
   "execution_count": null,
   "metadata": {},
   "outputs": [],
   "source": [
    "n=int(input())\n",
    "status=0\n",
    "for i in range (2,n//2):\n",
    "    if n%i==0:\n",
    "        status=1\n",
    "if status==0:\n",
    "    print(n+1)\n",
    "else:\n",
    "    print(\"not prime\")"
   ]
  },
  {
   "cell_type": "code",
   "execution_count": null,
   "metadata": {},
   "outputs": [],
   "source": [
    "n=int(input())\n",
    "for i in range(2,n+1):\n",
    "    if(n%i==0):\n",
    "        status=0\n",
    "        for j in range (2,i):\n",
    "            if i%j==0:\n",
    "                status=1\n",
    "        if status==0:\n",
    "            print(i)"
   ]
  },
  {
   "cell_type": "code",
   "execution_count": null,
   "metadata": {},
   "outputs": [],
   "source": [
    "li=list(map(int,input().split()))\n",
    "l=[]\n",
    "for i in li:\n",
    "    if i not in l:\n",
    "        l.append(i)\n",
    "print(l)        "
   ]
  },
  {
   "cell_type": "code",
   "execution_count": 2,
   "metadata": {},
   "outputs": [
    {
     "name": "stdout",
     "output_type": "stream",
     "text": [
      "hello welcome to string count\n",
      "no. of words 5\n",
      "no. of spaces 4\n",
      "no. of characters 25\n",
      "char with space 29\n"
     ]
    }
   ],
   "source": [
    "n=input()\n",
    "s=0\n",
    "l=0\n",
    "for i in n:\n",
    "    if i==\" \":\n",
    "        s=s+1\n",
    "    else:\n",
    "        for j in i:\n",
    "            l=l+1\n",
    "print(\"no. of words\",s+1)\n",
    "print(\"no. of spaces\",s)\n",
    "print(\"no. of characters\",l)\n",
    "print(\"char with space\",s+l)\n",
    "    \n"
   ]
  },
  {
   "cell_type": "code",
   "execution_count": 4,
   "metadata": {},
   "outputs": [
    {
     "name": "stdout",
     "output_type": "stream",
     "text": [
      "he)#&^ll)#@@_o)#$\n",
      "hello\n"
     ]
    }
   ],
   "source": [
    "s=input()\n",
    "n=\"\"\n",
    "for i in s:\n",
    "    if i.isalpha():\n",
    "        n=n+i\n",
    "print(n)"
   ]
  },
  {
   "cell_type": "code",
   "execution_count": 11,
   "metadata": {},
   "outputs": [
    {
     "name": "stdout",
     "output_type": "stream",
     "text": [
      "2\n"
     ]
    }
   ],
   "source": [
    "s=\"\"\"this is multi line \n",
    "count program\"\"\"\n",
    "c=0\n",
    "for i in s:\n",
    "    if i==\"\\n\":\n",
    "        c=c+1\n",
    "print(c+1)"
   ]
  },
  {
   "cell_type": "code",
   "execution_count": 14,
   "metadata": {},
   "outputs": [
    {
     "name": "stdout",
     "output_type": "stream",
     "text": [
      "a a a a a b b b \n",
      "no. of  a 5\n",
      "no. of  b 3\n"
     ]
    }
   ],
   "source": [
    "l=list(input().split())\n",
    "a=0\n",
    "for i in l:\n",
    "    a=l.count(i)\n",
    "    print(\"no. of \", i, a)\n",
    "    for j in range(1,a):\n",
    "        l.remove(i)"
   ]
  },
  {
   "cell_type": "code",
   "execution_count": null,
   "metadata": {},
   "outputs": [],
   "source": []
  }
 ],
 "metadata": {
  "kernelspec": {
   "display_name": "Python 3",
   "language": "python",
   "name": "python3"
  },
  "language_info": {
   "codemirror_mode": {
    "name": "ipython",
    "version": 3
   },
   "file_extension": ".py",
   "mimetype": "text/x-python",
   "name": "python",
   "nbconvert_exporter": "python",
   "pygments_lexer": "ipython3",
   "version": "3.7.3"
  }
 },
 "nbformat": 4,
 "nbformat_minor": 2
}
